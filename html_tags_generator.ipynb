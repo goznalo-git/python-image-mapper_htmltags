{
 "cells": [
  {
   "cell_type": "markdown",
   "metadata": {},
   "source": [
    "# HTML tags position generation\n",
    "\n",
    "Con la posición base del primer rectángulo, y aquellas posiciones de los saltos necesarios, calcularemos todos los restantes. Las posiciones vienen dadas por: horizontalizq, verticalarriba, horizontalder, verticalabajo\n",
    "\n",
    "Input parameters: \n",
    "* gr_col: numero de 'columnas de grupos'\n",
    "* gr_row: numero de 'filas de grupos'\n",
    "* col: numero de columnas/grupo\n",
    "* row: numero de filas/grupo "
   ]
  },
  {
   "cell_type": "code",
   "execution_count": 8,
   "metadata": {},
   "outputs": [],
   "source": [
    "import numpy as np"
   ]
  },
  {
   "cell_type": "code",
   "execution_count": 9,
   "metadata": {},
   "outputs": [],
   "source": [
    "def mostrar(path):\n",
    "    with open(path, 'r') as file:\n",
    "        imgmap = file.read()\n",
    "    print(imgmap)"
   ]
  },
  {
   "cell_type": "markdown",
   "metadata": {},
   "source": [
    "## Creación de la clase"
   ]
  },
  {
   "cell_type": "code",
   "execution_count": 10,
   "metadata": {},
   "outputs": [],
   "source": [
    "class mapeador():\n",
    "    \n",
    "    def __init__(self, path_input, path_output, gr_col, gr_row, col, row):\n",
    "        self.path_input = path_input\n",
    "        self.path_output = path_output\n",
    "        self.gr_col = gr_col\n",
    "        self.gr_row = gr_row\n",
    "        self.col = col\n",
    "        self.row = row\n",
    "        \n",
    "        self.importar_map()\n",
    "        \n",
    "    def importar_map(self):\n",
    "        with open(self.path_input, 'r') as file:\n",
    "            self.imgmap = file.read()\n",
    "    \n",
    "    def coordenadas(self):\n",
    "        #Conseguimos el diccionario con las cordenadas del rectángulo inicial y los saltos necesarios\n",
    "        coords_dict = {}\n",
    "        split = [split.split('\\\" alt=\\\"') for split in self.imgmap.split('coords=\\\"')[1:]]\n",
    "        \n",
    "        for coords in split:\n",
    "            alt = coords[1].split('\\\"  nohref')[0] #Careful: dos espacios entre \\\" y nohref\n",
    "            coords_dict[int(alt)] = coords[0]\n",
    "        \n",
    "        return coords_dict\n",
    "        \n",
    "    def distancias(self):\n",
    "        #Calculamos las distancias al rectángulo inicial (base)\n",
    "        coords_dict = self.coordenadas()\n",
    "        \n",
    "        dist_dict = {}\n",
    "        pos_base = [int(pos) for pos in coords_dict[1].split(\",\")]\n",
    "        \n",
    "        for entry in coords_dict.keys():\n",
    "            if entry == 1:\n",
    "                continue\n",
    "            pos = [int(pos) for pos in coords_dict[entry].split(\",\")]\n",
    "            dist_dict[entry] = np.subtract(pos,pos_base)\n",
    "        \n",
    "        dist_good = {entry: list(dist_dict[entry][:2]) + list(dist_dict[entry][:2]) for entry in dist_dict.keys()} # Nos quedamos con las dos primeras entradas, y las repetimos.\n",
    "        \n",
    "        return dist_good, pos_base\n",
    "        \n",
    "    def todas_posiciones(self):\n",
    "        #obtenemos un diccionario alt <---> posiciones de los rectángulos\n",
    "        dist_good, pos_base = self.distancias()\n",
    "    \n",
    "        alt = 1\n",
    "        all_pos = {}\n",
    "        all_pos[1] = np.array(pos_base)\n",
    "\n",
    "        def calcular_posicion(alt,i,j,k,l):\n",
    "            change = np.multiply(i,dist_good[2]) + np.multiply(j,dist_good[3]) + np.multiply(k,dist_good[7]) \n",
    "            pos = np.add(pos_base, change)\n",
    "            alt += 1\n",
    "            return alt, pos \n",
    "\n",
    "        for l in range(0,gr_row):\n",
    "            for k in range(0,gr_col):\n",
    "                for j in range(0,col):\n",
    "                    for i in range(0,row):\n",
    "                        if i == 0 and j == 0 and k == 0 and l == 0:\n",
    "                            continue\n",
    "                        alt, pos = calcular_posicion(alt,i,j,k,l)\n",
    "                        all_pos[alt] = pos\n",
    "                        \n",
    "        return all_pos\n",
    "    \n",
    "    def preparar_output(self):\n",
    "        #Eliminar los tags que ahora sustituiremos\n",
    "        splitmap = self.imgmap.split('\\n')\n",
    "        finalmap = [] \n",
    "        for split in splitmap:\n",
    "            if split.find('<area'):\n",
    "                finalmap.append(split)\n",
    "\n",
    "        return finalmap\n",
    "    \n",
    "    def generar_y_guardar(self):\n",
    "        # Insertar los tags en la lista que irá al fichero\n",
    "        all_pos = self.todas_posiciones()\n",
    "        finalmap = self.preparar_output()\n",
    "        \n",
    "        for entry in all_pos.keys():\n",
    "            intlist = all_pos[entry].tolist()\n",
    "            strlist = [str(num) for num in intlist]\n",
    "            val = \",\".join(strlist)\n",
    "            tag = f'<area shape=\"rect\" coords=\"{val}\" alt=\"{entry}\"  nohref=\"nohref\" />'\n",
    "            finalmap.insert(-2,tag)\n",
    "        \n",
    "        with open(self.path_output, 'w') as file:\n",
    "            file.write('\\n'.join(finalmap))\n",
    "        \n",
    "        print(\"alright!\")"
   ]
  },
  {
   "cell_type": "markdown",
   "metadata": {},
   "source": [
    "### Caso 1: switch SX6536"
   ]
  },
  {
   "cell_type": "code",
   "execution_count": 11,
   "metadata": {},
   "outputs": [],
   "source": [
    "#Detalles switch:\n",
    "gr_col = 3\n",
    "gr_row = 1\n",
    "col = 3\n",
    "row = 2"
   ]
  },
  {
   "cell_type": "code",
   "execution_count": 12,
   "metadata": {},
   "outputs": [],
   "source": [
    "#Input/output:\n",
    "path_input = 'imagenes_y_maps/[SX6536_detalle] (imported).map'\n",
    "path_output = 'imagenes_y_maps/SX6536_detalle.map'"
   ]
  },
  {
   "cell_type": "code",
   "execution_count": 13,
   "metadata": {},
   "outputs": [],
   "source": [
    "switchSX6536 = mapeador(path_input, path_output, gr_col, gr_row, col, row)"
   ]
  },
  {
   "cell_type": "code",
   "execution_count": 7,
   "metadata": {},
   "outputs": [
    {
     "name": "stdout",
     "output_type": "stream",
     "text": [
      "alright!\n"
     ]
    }
   ],
   "source": [
    "switchSX6536.generar_y_guardar()"
   ]
  }
 ],
 "metadata": {
  "kernelspec": {
   "display_name": "Python 3",
   "language": "python",
   "name": "python3"
  },
  "language_info": {
   "codemirror_mode": {
    "name": "ipython",
    "version": 3
   },
   "file_extension": ".py",
   "mimetype": "text/x-python",
   "name": "python",
   "nbconvert_exporter": "python",
   "pygments_lexer": "ipython3",
   "version": "3.9.1"
  }
 },
 "nbformat": 4,
 "nbformat_minor": 4
}
