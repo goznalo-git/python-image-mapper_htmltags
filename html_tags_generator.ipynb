{
 "cells": [
  {
   "cell_type": "markdown",
   "metadata": {},
   "source": [
    "# HTML tags position generation\n",
    "\n",
    "Con la posición base del primer rectángulo, y aquellas posiciones de los saltos necesarios, calcularemos todos los restantes. Las posiciones vienen dadas por: horizontalizq, verticalarriba, horizontalder, verticalabajo\n",
    "\n",
    "Input parameters: \n",
    "* gr_col: numero de 'columnas de grupos'\n",
    "* gr_row: numero de 'filas de grupos'\n",
    "* col: numero de columnas/grupo\n",
    "* row: numero de filas/grupo "
   ]
  },
  {
   "cell_type": "code",
   "execution_count": 6,
   "metadata": {},
   "outputs": [],
   "source": [
    "import numpy as np"
   ]
  },
  {
   "cell_type": "code",
   "execution_count": 7,
   "metadata": {},
   "outputs": [],
   "source": [
    "def mostrar(path):\n",
    "    with open(path, 'r') as file:\n",
    "        imgmap = file.read()\n",
    "    print(imgmap)"
   ]
  },
  {
   "cell_type": "markdown",
   "metadata": {},
   "source": [
    "## Creación de la clase"
   ]
  },
  {
   "cell_type": "code",
   "execution_count": 29,
   "metadata": {},
   "outputs": [],
   "source": [
    "class mapeador():\n",
    "    \n",
    "    def __init__(self, path_input, path_output, gr_col, gr_row, col, row):\n",
    "        self.path_input = path_input\n",
    "        self.path_output = path_output\n",
    "        self.gr_col = gr_col\n",
    "        self.gr_row = gr_row\n",
    "        self.col = col\n",
    "        self.row = row\n",
    "        \n",
    "        self.importar_map()\n",
    "        \n",
    "    def importar_map(self):\n",
    "        with open(self.path_input, 'r') as file:\n",
    "            self.imgmap = file.read()\n",
    "    \n",
    "    def coordenadas(self):\n",
    "        #Conseguimos el diccionario con las cordenadas del rectángulo inicial y los saltos necesarios\n",
    "        coords_dict = {}\n",
    "        split = [split.split('\\\" alt=\\\"') for split in self.imgmap.split('coords=\\\"')[1:]]\n",
    "        \n",
    "        for coords in split:\n",
    "            alt = coords[1].split('\\\"  nohref')[0] #Careful: dos espacios entre \\\" y nohref\n",
    "            coords_dict[int(alt)] = coords[0]\n",
    "        \n",
    "        return coords_dict\n",
    "        \n",
    "    def distancias(self):\n",
    "        #Calculamos las distancias al rectángulo inicial (base)\n",
    "        coords_dict = self.coordenadas()\n",
    "        \n",
    "        dist_dict = {}\n",
    "        pos_base = [int(pos) for pos in coords_dict[1].split(\",\")]\n",
    "        \n",
    "        for entry in coords_dict.keys():\n",
    "            if entry == 1:\n",
    "                continue\n",
    "            pos = [int(pos) for pos in coords_dict[entry].split(\",\")]\n",
    "            dist_dict[entry] = np.subtract(pos,pos_base)\n",
    "        \n",
    "        #dist_good = {entry: list(dist_dict[entry][:2]) + list(dist_dict[entry][:2]) for entry in dist_dict.keys()} # Nos quedamos con las dos primeras entradas, y las repetimos.\n",
    "        \n",
    "        return dist_dict, pos_base\n",
    "        \n",
    "    def todas_posiciones(self):\n",
    "        #obtenemos un diccionario alt <---> posiciones de los rectángulos\n",
    "        dist_good, pos_base = self.distancias()\n",
    "    \n",
    "        alt = 1\n",
    "        all_pos = {}\n",
    "        all_pos[1] = np.array(pos_base)\n",
    "\n",
    "        def calcular_posicion(alt,i,j,k,l):\n",
    "            #Calculo del siguiente rectángulo.\n",
    "            change = np.multiply(i,dist_good[2]) + np.multiply(j,dist_good[3]) + np.multiply(k,dist_good[col * row + 1])\n",
    "            if l: \n",
    "                change += np.multiply(l,dist_good[col * row * gr_col + 1]) \n",
    "\n",
    "            pos = np.add(pos_base, change)\n",
    "            alt += 1\n",
    "            return alt, pos \n",
    "\n",
    "        for l in range(0,gr_row):\n",
    "            for k in range(0,gr_col):\n",
    "                for j in range(0,col):\n",
    "                    for i in range(0,row):\n",
    "                        if i == 0 and j == 0 and k == 0 and l == 0:\n",
    "                            continue\n",
    "                        alt, pos = calcular_posicion(alt,i,j,k,l)\n",
    "                        all_pos[alt] = pos\n",
    "        print(all_pos)\n",
    "        \n",
    "        return all_pos\n",
    "    \n",
    "    def preparar_output(self):\n",
    "        #Eliminar los tags que ahora sustituiremos\n",
    "        splitmap = self.imgmap.split('\\n')\n",
    "        finalmap = [] \n",
    "        for split in splitmap:\n",
    "            if split.find('<area'):\n",
    "                finalmap.append(split)\n",
    "\n",
    "        return finalmap\n",
    "    \n",
    "    def generar_y_guardar(self):\n",
    "        # Insertar los tags en la lista que irá al fichero\n",
    "        all_pos = self.todas_posiciones()\n",
    "        finalmap = self.preparar_output()\n",
    "        \n",
    "        for entry in all_pos.keys():\n",
    "            intlist = all_pos[entry].tolist()\n",
    "            strlist = [str(num) for num in intlist]\n",
    "            val = \",\".join(strlist)\n",
    "            tag = f'<area shape=\"rect\" coords=\"{val}\" alt=\"{entry}\"  nohref=\"nohref\" />'\n",
    "            finalmap.insert(-2,tag)\n",
    "        \n",
    "        with open(self.path_output, 'w') as file:\n",
    "            file.write('\\n'.join(finalmap))\n",
    "        \n",
    "        print(\"\\nalright!\")"
   ]
  },
  {
   "cell_type": "markdown",
   "metadata": {},
   "source": [
    "### Caso 1: switch SX6536"
   ]
  },
  {
   "cell_type": "code",
   "execution_count": 30,
   "metadata": {},
   "outputs": [],
   "source": [
    "#Detalles switch:\n",
    "gr_col = 3\n",
    "gr_row = 1\n",
    "col = 3\n",
    "row = 2"
   ]
  },
  {
   "cell_type": "code",
   "execution_count": 31,
   "metadata": {},
   "outputs": [],
   "source": [
    "#Input/output:\n",
    "path_input = 'imagenes_y_maps/[SX6536_detalle] (imported).map'\n",
    "path_output = 'imagenes_y_maps/SX6536_detalle.map'"
   ]
  },
  {
   "cell_type": "code",
   "execution_count": 32,
   "metadata": {},
   "outputs": [],
   "source": [
    "switchSX6536 = mapeador(path_input, path_output, gr_col, gr_row, col, row)"
   ]
  },
  {
   "cell_type": "code",
   "execution_count": 33,
   "metadata": {},
   "outputs": [
    {
     "name": "stdout",
     "output_type": "stream",
     "text": [
      "{1: array([108,  61, 141,  76]), 2: array([108,  84, 142,  99]), 3: array([143,  61, 176,  76]), 4: array([143,  84, 177,  99]), 5: array([178,  61, 211,  76]), 6: array([178,  84, 212,  99]), 7: array([219,  61, 251,  76]), 8: array([219,  84, 252,  99]), 9: array([254,  61, 286,  76]), 10: array([254,  84, 287,  99]), 11: array([289,  61, 321,  76]), 12: array([289,  84, 322,  99]), 13: array([330,  61, 361,  76]), 14: array([330,  84, 362,  99]), 15: array([365,  61, 396,  76]), 16: array([365,  84, 397,  99]), 17: array([400,  61, 431,  76]), 18: array([400,  84, 432,  99])}\n",
      "\n",
      "alright!\n"
     ]
    }
   ],
   "source": [
    "switchSX6536.generar_y_guardar()"
   ]
  },
  {
   "cell_type": "markdown",
   "metadata": {},
   "source": [
    "### Caso 2: switch SX6036"
   ]
  },
  {
   "cell_type": "code",
   "execution_count": 34,
   "metadata": {},
   "outputs": [],
   "source": [
    "#Detalles switch:\n",
    "gr_col = 3\n",
    "gr_row = 1\n",
    "col = 6\n",
    "row = 2"
   ]
  },
  {
   "cell_type": "code",
   "execution_count": 35,
   "metadata": {},
   "outputs": [],
   "source": [
    "#Input/output:\n",
    "path_input = 'imagenes_y_maps/[StorageReview-Mellanox-SX6036-InfiniBand-Switch-Front] (imported).map'\n",
    "path_output = 'imagenes_y_maps/SX6036_IB_Front.map'"
   ]
  },
  {
   "cell_type": "code",
   "execution_count": 36,
   "metadata": {},
   "outputs": [
    {
     "name": "stdout",
     "output_type": "stream",
     "text": [
      "{1: array([ 70,  51, 105,  67]), 2: array([ 71,  76, 106,  92]), 3: array([108,  51, 142,  67]), 4: array([109,  76, 143,  92]), 5: array([146,  51, 179,  67]), 6: array([147,  76, 180,  92]), 7: array([184,  51, 216,  67]), 8: array([185,  76, 217,  92]), 9: array([222,  51, 253,  67]), 10: array([223,  76, 254,  92]), 11: array([260,  51, 290,  67]), 12: array([261,  76, 291,  92]), 13: array([300,  53, 334,  67]), 14: array([301,  78, 335,  92]), 15: array([338,  53, 371,  67]), 16: array([339,  78, 372,  92]), 17: array([376,  53, 408,  67]), 18: array([377,  78, 409,  92]), 19: array([414,  53, 445,  67]), 20: array([415,  78, 446,  92]), 21: array([452,  53, 482,  67]), 22: array([453,  78, 483,  92]), 23: array([490,  53, 519,  67]), 24: array([491,  78, 520,  92]), 25: array([530,  55, 563,  67]), 26: array([531,  80, 564,  92]), 27: array([568,  55, 600,  67]), 28: array([569,  80, 601,  92]), 29: array([606,  55, 637,  67]), 30: array([607,  80, 638,  92]), 31: array([644,  55, 674,  67]), 32: array([645,  80, 675,  92]), 33: array([682,  55, 711,  67]), 34: array([683,  80, 712,  92]), 35: array([720,  55, 748,  67]), 36: array([721,  80, 749,  92])}\n",
      "\n",
      "alright!\n"
     ]
    }
   ],
   "source": [
    "switchSX6536 = mapeador(path_input, path_output, gr_col, gr_row, col, row)\n",
    "switchSX6536.generar_y_guardar()"
   ]
  },
  {
   "cell_type": "code",
   "execution_count": null,
   "metadata": {},
   "outputs": [],
   "source": []
  }
 ],
 "metadata": {
  "kernelspec": {
   "display_name": "Python 3",
   "language": "python",
   "name": "python3"
  },
  "language_info": {
   "codemirror_mode": {
    "name": "ipython",
    "version": 3
   },
   "file_extension": ".py",
   "mimetype": "text/x-python",
   "name": "python",
   "nbconvert_exporter": "python",
   "pygments_lexer": "ipython3",
   "version": "3.9.1"
  }
 },
 "nbformat": 4,
 "nbformat_minor": 4
}
