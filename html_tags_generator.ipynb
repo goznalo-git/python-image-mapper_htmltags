{
 "cells": [
  {
   "cell_type": "markdown",
   "metadata": {},
   "source": [
    "# HTML tags position generation\n",
    "\n",
    "Con la posición base del primer rectángulo, y aquellas posiciones de los saltos necesarios, calcularemos todos los restantes. Las posiciones en los tags de html generados por GIMP vienen dadas por: 'horizontalizq, verticalarriba, horizontalder, verticalabajo'.\n",
    "\n",
    "Jerarquía de parámetros: switches contienen grupos de bocas infiniband, cada una con 'col' columnas y 'row' filas. \n",
    "\n",
    "Input parameters: \n",
    "* sw_col: número de 'columnas de switches'\n",
    "* sw_row: número de 'filas de switches' \n",
    "* gr_col: número de 'columnas de grupos'\n",
    "* gr_row: número de 'filas de grupos'\n",
    "* col: número de columnas/grupo\n",
    "* row: número de filas/grupo "
   ]
  },
  {
   "cell_type": "code",
   "execution_count": 8,
   "metadata": {},
   "outputs": [],
   "source": [
    "import numpy as np"
   ]
  },
  {
   "cell_type": "markdown",
   "metadata": {},
   "source": [
    "## Creación de la clase"
   ]
  },
  {
   "cell_type": "code",
   "execution_count": 9,
   "metadata": {},
   "outputs": [],
   "source": [
    "class mapeador():\n",
    "    \n",
    "    def __init__(self, path_input, path_output, dim, sw_col = 1, sw_row = 1, base = 0, show_pos = True):\n",
    "        self.path_input = path_input\n",
    "        self.path_output = path_output\n",
    "        self.sw_col = sw_col\n",
    "        self.sw_row = sw_row\n",
    "        self.gr_col = dim[0]\n",
    "        self.gr_row = dim[1]\n",
    "        self.col = dim[2]\n",
    "        self.row = dim[3]\n",
    "        self.base = base\n",
    "        self.show_pos = show_pos\n",
    "        \n",
    "        self.importar_map()\n",
    "        \n",
    "    def importar_map(self):\n",
    "        with open(self.path_input, 'r') as file:\n",
    "            self.imgmap = file.read()\n",
    "    \n",
    "    def coordenadas(self):\n",
    "        #Conseguimos el diccionario con las cordenadas del rectángulo inicial y los saltos necesarios\n",
    "        coords_dict = {}\n",
    "        split = [split.split('\\\" alt=\\\"') for split in self.imgmap.split('coords=\\\"')[1:]]\n",
    "        \n",
    "        for coords in split:\n",
    "            alt = coords[1].split('\\\"  nohref')[0] #Careful: dos espacios entre \\\" y nohref\n",
    "            coords_dict[int(alt)] = coords[0]\n",
    "        \n",
    "        return coords_dict\n",
    "        \n",
    "    def distancias(self):\n",
    "        #Calculamos las distancias al rectángulo inicial (base)\n",
    "        coords_dict = self.coordenadas()\n",
    "        \n",
    "        dist_dict = {}\n",
    "        pos_base = [int(pos) for pos in coords_dict[1].split(\",\")]\n",
    "        \n",
    "        for entry in coords_dict.keys():\n",
    "            if entry == 1:\n",
    "                continue\n",
    "            pos = [int(pos) for pos in coords_dict[entry].split(\",\")]\n",
    "            dist_dict[entry] = np.subtract(pos,pos_base)\n",
    "        \n",
    "        #dist_good = {entry: list(dist_dict[entry][:2]) + list(dist_dict[entry][:2]) for entry in dist_dict.keys()} # Nos quedamos con las dos primeras entradas, y las repetimos.\n",
    "        \n",
    "        return dist_dict, pos_base\n",
    "        \n",
    "    def todas_posiciones(self):\n",
    "        #obtenemos un diccionario alt <---> posiciones de los rectángulos\n",
    "        dist_good, pos_base = self.distancias()\n",
    "    \n",
    "        alt = 1\n",
    "        all_pos = {}\n",
    "        all_pos[1 + self.base] = np.array(pos_base)\n",
    "\n",
    "        def calcular_posicion(alt,i,j,k,l,m,n):\n",
    "            #Calculo del siguiente rectángulo.\n",
    "            change = np.multiply(i,dist_good[2]) + np.multiply(j,dist_good[3]) #al menos habrá filas y columnas.\n",
    "            if k:\n",
    "                change += np.multiply(k,dist_good[self.col * self.row + 1])\n",
    "            if l: \n",
    "                change += np.multiply(l,dist_good[self.col * self.row * self.gr_col + 1])\n",
    "            if m:\n",
    "                change += np.multiply(m,dist_good[self.col * self.row * self.gr_col * self.gr_row + 1])\n",
    "            if n: \n",
    "                change += np.multiply(n,dist_good[self.col * self.row * self.gr_col * self.gr_row * self.sw_col + 1])\n",
    "\n",
    "\n",
    "            pos = np.add(pos_base, change)\n",
    "            alt += 1\n",
    "            return alt, pos \n",
    "\n",
    "        for n in range(self.sw_row):\n",
    "            for m in range(self.sw_col):\n",
    "                for l in range(self.gr_row):\n",
    "                    for k in range(self.gr_col):\n",
    "                        for j in range(self.col):\n",
    "                            for i in range(self.row):\n",
    "                                if i == 0 and j == 0 and k == 0 and l == 0 and m == 0 and n == 0:\n",
    "                                    continue\n",
    "                                alt, pos = calcular_posicion(alt,i,j,k,l,m,n)\n",
    "                                all_pos[alt + self.base] = pos\n",
    "        if self.show_pos:\n",
    "            print(all_pos)\n",
    "        \n",
    "        return all_pos\n",
    "    \n",
    "    def preparar_output(self):\n",
    "        #Eliminar los tags que ahora sustituiremos\n",
    "        if self.base != 0:\n",
    "            with open(self.path_output, 'r') as file:\n",
    "                self.imgmap = file.read()\n",
    "        \n",
    "        splitmap = self.imgmap.split('\\n')\n",
    "        finalmap = [] \n",
    "        if self.base == 0: #borrar lineas en el fichero generado a mano\n",
    "            for split in splitmap:\n",
    "                if split.find('<area'):\n",
    "                    finalmap.append(split)\n",
    "        else: #incorporar a un fichero más filas a partir de un numero base\n",
    "            finalmap = splitmap\n",
    "            \n",
    "        return finalmap\n",
    "    \n",
    "    def generar_y_guardar(self):\n",
    "        # Insertar los tags en la lista que irá al fichero\n",
    "        all_pos = self.todas_posiciones()\n",
    "        finalmap = self.preparar_output()\n",
    "        \n",
    "        for entry in all_pos.keys():\n",
    "            intlist = all_pos[entry].tolist()\n",
    "            strlist = [str(num) for num in intlist]\n",
    "            val = \",\".join(strlist)\n",
    "            tag = f'<area shape=\"rect\" coords=\"{val}\" alt=\"{entry}\"  nohref=\"nohref\" />'\n",
    "            finalmap.insert(-2,tag)\n",
    "        \n",
    "        with open(self.path_output, 'w') as file:\n",
    "            file.write('\\n'.join(finalmap))\n",
    "        \n",
    "        print(\"\\nalright!\")"
   ]
  },
  {
   "cell_type": "markdown",
   "metadata": {},
   "source": [
    "### Caso 1: switch leafs del switch SX6536"
   ]
  },
  {
   "cell_type": "code",
   "execution_count": 10,
   "metadata": {},
   "outputs": [],
   "source": [
    "#Detalles switch:\n",
    "gr_col_1 = 3\n",
    "gr_row_1 = 1\n",
    "col_1 = 3\n",
    "row_1 = 2"
   ]
  },
  {
   "cell_type": "code",
   "execution_count": 11,
   "metadata": {},
   "outputs": [],
   "source": [
    "#Input/output:\n",
    "path_input_1 = 'mapeos/[SX6536_detalle] (imported).map'\n",
    "path_output_1 = 'mapeos/SX6536_detalle.map'"
   ]
  },
  {
   "cell_type": "code",
   "execution_count": 12,
   "metadata": {},
   "outputs": [],
   "source": [
    "leafSX6536 = mapeador(path_input_1, path_output_1, [gr_col_1, gr_row_1, col_1, row_1])"
   ]
  },
  {
   "cell_type": "code",
   "execution_count": 13,
   "metadata": {},
   "outputs": [
    {
     "name": "stdout",
     "output_type": "stream",
     "text": [
      "{1: array([108,  61, 141,  76]), 2: array([108,  84, 142,  99]), 3: array([143,  61, 176,  76]), 4: array([143,  84, 177,  99]), 5: array([178,  61, 211,  76]), 6: array([178,  84, 212,  99]), 7: array([219,  61, 251,  76]), 8: array([219,  84, 252,  99]), 9: array([254,  61, 286,  76]), 10: array([254,  84, 287,  99]), 11: array([289,  61, 321,  76]), 12: array([289,  84, 322,  99]), 13: array([330,  61, 361,  76]), 14: array([330,  84, 362,  99]), 15: array([365,  61, 396,  76]), 16: array([365,  84, 397,  99]), 17: array([400,  61, 431,  76]), 18: array([400,  84, 432,  99])}\n",
      "\n",
      "alright!\n"
     ]
    }
   ],
   "source": [
    "leafSX6536.generar_y_guardar()"
   ]
  },
  {
   "cell_type": "markdown",
   "metadata": {},
   "source": [
    "### Caso 2: switch SX6036"
   ]
  },
  {
   "cell_type": "code",
   "execution_count": 14,
   "metadata": {},
   "outputs": [],
   "source": [
    "#Detalles switch:\n",
    "gr_col_2 = 3\n",
    "gr_row_2 = 1\n",
    "col_2 = 6\n",
    "row_2 = 2"
   ]
  },
  {
   "cell_type": "code",
   "execution_count": 15,
   "metadata": {},
   "outputs": [],
   "source": [
    "#Input/output:\n",
    "path_input_2 = 'mapeos/[StorageReview-Mellanox-SX6036-InfiniBand-Switch-Front] (imported).map'\n",
    "path_output_2 = 'mapeos/SX6036_IB_Front.map'"
   ]
  },
  {
   "cell_type": "code",
   "execution_count": 16,
   "metadata": {},
   "outputs": [
    {
     "name": "stdout",
     "output_type": "stream",
     "text": [
      "{1: array([ 70,  51, 105,  67]), 2: array([ 71,  76, 106,  92]), 3: array([108,  51, 142,  67]), 4: array([109,  76, 143,  92]), 5: array([146,  51, 179,  67]), 6: array([147,  76, 180,  92]), 7: array([184,  51, 216,  67]), 8: array([185,  76, 217,  92]), 9: array([222,  51, 253,  67]), 10: array([223,  76, 254,  92]), 11: array([260,  51, 290,  67]), 12: array([261,  76, 291,  92]), 13: array([300,  53, 334,  67]), 14: array([301,  78, 335,  92]), 15: array([338,  53, 371,  67]), 16: array([339,  78, 372,  92]), 17: array([376,  53, 408,  67]), 18: array([377,  78, 409,  92]), 19: array([414,  53, 445,  67]), 20: array([415,  78, 446,  92]), 21: array([452,  53, 482,  67]), 22: array([453,  78, 483,  92]), 23: array([490,  53, 519,  67]), 24: array([491,  78, 520,  92]), 25: array([530,  55, 563,  67]), 26: array([531,  80, 564,  92]), 27: array([568,  55, 600,  67]), 28: array([569,  80, 601,  92]), 29: array([606,  55, 637,  67]), 30: array([607,  80, 638,  92]), 31: array([644,  55, 674,  67]), 32: array([645,  80, 675,  92]), 33: array([682,  55, 711,  67]), 34: array([683,  80, 712,  92]), 35: array([720,  55, 748,  67]), 36: array([721,  80, 749,  92])}\n",
      "\n",
      "alright!\n"
     ]
    }
   ],
   "source": [
    "switchSX6036 = mapeador(path_input_2, path_output_2, [gr_col_2, gr_row_2, col_2, row_2])\n",
    "switchSX6036.generar_y_guardar()"
   ]
  },
  {
   "cell_type": "markdown",
   "metadata": {},
   "source": [
    "### Caso 3: switch SX6536 (parte 1)\n",
    "\n",
    "Vamos a dividir el switch SX6536 en dos partes, ya que hay una separación con una barra de metal entre una parte con 12 switches encima de una parte con 24 (en ambos casos, en dos columnas). Esta irregularidad en la cantidad de switches existente en ambas partes hace dificil automatizarlo. Para no comerme la cabeza, simplemente he añadido un parámetro 'base' a partir del cual empezar a contar, en este caso el segundo grupo de switches comienza en el 217 (ese sería el 1, por lo que la base es 216)."
   ]
  },
  {
   "cell_type": "code",
   "execution_count": 22,
   "metadata": {},
   "outputs": [],
   "source": [
    "#Detalles switch:\n",
    "sw_col_3 = 2\n",
    "gr_col_3 = 3\n",
    "gr_row_3 = 6\n",
    "col_3 = 3\n",
    "row_3 = 2"
   ]
  },
  {
   "cell_type": "code",
   "execution_count": 23,
   "metadata": {},
   "outputs": [],
   "source": [
    "#Input/output:\n",
    "path_input_3 = 'mapeos/[sx6536] (imported).map'\n",
    "path_output_3 = 'mapeos/sx6536_full.map'"
   ]
  },
  {
   "cell_type": "code",
   "execution_count": 24,
   "metadata": {},
   "outputs": [
    {
     "name": "stdout",
     "output_type": "stream",
     "text": [
      "\n",
      "alright!\n"
     ]
    }
   ],
   "source": [
    "switchSX6036 = mapeador(path_input_3, path_output_3, [gr_col_3, gr_row_3, col_3, row_3], sw_col = sw_col_3, show_pos = False)\n",
    "switchSX6036.generar_y_guardar()"
   ]
  },
  {
   "cell_type": "markdown",
   "metadata": {},
   "source": [
    "### Caso 3: switch SX6536 (parte 2)"
   ]
  },
  {
   "cell_type": "code",
   "execution_count": 25,
   "metadata": {},
   "outputs": [],
   "source": [
    "#Detalles switch:\n",
    "sw_col_32 = 2\n",
    "gr_col_32 = 3\n",
    "gr_row_32 = 12\n",
    "col_32 = 3\n",
    "row_32 = 2\n",
    "base = 216"
   ]
  },
  {
   "cell_type": "code",
   "execution_count": 26,
   "metadata": {},
   "outputs": [],
   "source": [
    "#Input/output:\n",
    "path_input_32 = 'mapeos/[sx6536] (imported) - 2.map'\n",
    "path_output_32 = 'mapeos/sx6536_full.map'"
   ]
  },
  {
   "cell_type": "code",
   "execution_count": 28,
   "metadata": {},
   "outputs": [
    {
     "name": "stdout",
     "output_type": "stream",
     "text": [
      "\n",
      "alright!\n"
     ]
    }
   ],
   "source": [
    "switchSX6036_2 = mapeador(path_input_32, path_output_32, [gr_col_32, gr_row_32, col_32, row_32], sw_col = sw_col_32, base = base, show_pos = False)\n",
    "switchSX6036_2.generar_y_guardar()"
   ]
  },
  {
   "cell_type": "markdown",
   "metadata": {},
   "source": [
    "### Caso 4: CPD 1\n",
    "Esto no es un switch pero bueno, es lo que hay."
   ]
  },
  {
   "cell_type": "code",
   "execution_count": 44,
   "metadata": {},
   "outputs": [],
   "source": [
    "#Detalles\n",
    "gr_col_4 = 1\n",
    "gr_row_4 = 1\n",
    "col_4 = 10\n",
    "row_4 = 2"
   ]
  },
  {
   "cell_type": "code",
   "execution_count": 45,
   "metadata": {},
   "outputs": [],
   "source": [
    "#Input/output:\n",
    "path_input_4 = 'mapeos/cpd1_inicial.map'\n",
    "path_output_4 = 'mapeos/cpd1_mapeo.map'"
   ]
  },
  {
   "cell_type": "code",
   "execution_count": 62,
   "metadata": {},
   "outputs": [
    {
     "name": "stdout",
     "output_type": "stream",
     "text": [
      "{1: array([211, 165, 323, 278]), 2: array([212, 529, 323, 641]), 3: array([333, 166, 443, 278]), 4: array([334, 530, 443, 641]), 5: array([455, 167, 563, 278]), 6: array([456, 531, 563, 641]), 7: array([577, 168, 683, 278]), 8: array([578, 532, 683, 641]), 9: array([699, 169, 803, 278]), 10: array([700, 533, 803, 641]), 11: array([821, 170, 923, 278]), 12: array([822, 534, 923, 641]), 13: array([ 943,  171, 1043,  278]), 14: array([ 944,  535, 1043,  641]), 15: array([1065,  172, 1163,  278]), 16: array([1066,  536, 1163,  641]), 17: array([1187,  173, 1283,  278]), 18: array([1188,  537, 1283,  641]), 19: array([1309,  174, 1403,  278]), 20: array([1310,  538, 1403,  641])}\n",
      "\n",
      "alright!\n"
     ]
    }
   ],
   "source": [
    "cpd1 = mapeador(path_input_4, path_output_4, [gr_col_4, gr_row_4, col_4, row_4], show_pos = True)\n",
    "cpd1.generar_y_guardar()"
   ]
  },
  {
   "cell_type": "markdown",
   "metadata": {},
   "source": [
    "### Caso 5: CPD 2\n",
    "Lo mismo de antes"
   ]
  },
  {
   "cell_type": "code",
   "execution_count": 66,
   "metadata": {},
   "outputs": [],
   "source": [
    "#Detalles\n",
    "gr_col_5 = 1\n",
    "gr_row_5 = 1\n",
    "col_5 = 12\n",
    "row_5 = 2"
   ]
  },
  {
   "cell_type": "code",
   "execution_count": 67,
   "metadata": {},
   "outputs": [],
   "source": [
    "#Input/output:\n",
    "path_input_5 = 'mapeos/cpd2_inicial.map'\n",
    "path_output_5 = 'mapeos/cpd2_mapeo.map'"
   ]
  },
  {
   "cell_type": "code",
   "execution_count": 68,
   "metadata": {},
   "outputs": [
    {
     "name": "stdout",
     "output_type": "stream",
     "text": [
      "{1: array([ 90, 313, 214, 440]), 2: array([ 90, 581, 214, 706]), 3: array([225, 313, 349, 440]), 4: array([225, 581, 349, 706]), 5: array([360, 313, 484, 440]), 6: array([360, 581, 484, 706]), 7: array([495, 313, 619, 440]), 8: array([495, 581, 619, 706]), 9: array([630, 313, 754, 440]), 10: array([630, 581, 754, 706]), 11: array([765, 313, 889, 440]), 12: array([765, 581, 889, 706]), 13: array([ 900,  313, 1024,  440]), 14: array([ 900,  581, 1024,  706]), 15: array([1035,  313, 1159,  440]), 16: array([1035,  581, 1159,  706]), 17: array([1170,  313, 1294,  440]), 18: array([1170,  581, 1294,  706]), 19: array([1305,  313, 1429,  440]), 20: array([1305,  581, 1429,  706]), 21: array([1440,  313, 1564,  440]), 22: array([1440,  581, 1564,  706]), 23: array([1575,  313, 1699,  440]), 24: array([1575,  581, 1699,  706])}\n",
      "\n",
      "alright!\n"
     ]
    }
   ],
   "source": [
    "cpd2 = mapeador(path_input_5, path_output_5, [gr_col_5, gr_row_5, col_5, row_5], show_pos = True)\n",
    "cpd2.generar_y_guardar()"
   ]
  },
  {
   "cell_type": "code",
   "execution_count": null,
   "metadata": {},
   "outputs": [],
   "source": []
  },
  {
   "cell_type": "code",
   "execution_count": null,
   "metadata": {},
   "outputs": [],
   "source": []
  }
 ],
 "metadata": {
  "kernelspec": {
   "display_name": "Python 3",
   "language": "python",
   "name": "python3"
  },
  "language_info": {
   "codemirror_mode": {
    "name": "ipython",
    "version": 3
   },
   "file_extension": ".py",
   "mimetype": "text/x-python",
   "name": "python",
   "nbconvert_exporter": "python",
   "pygments_lexer": "ipython3",
   "version": "3.9.1"
  }
 },
 "nbformat": 4,
 "nbformat_minor": 4
}
