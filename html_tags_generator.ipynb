{
 "cells": [
  {
   "cell_type": "markdown",
   "metadata": {},
   "source": [
    "# HTML tags position generation\n",
    "\n",
    "Con la posición base del primer rectángulo, y aquellas posiciones de los saltos necesarios, calcularemos todos los restantes. Las posiciones en los tags de html generados por GIMP vienen dadas por: 'horizontalizq, verticalarriba, horizontalder, verticalabajo'.\n",
    "\n",
    "Jerarquía de parámetros: switches contienen grupos de bocas infiniband, cada una con 'col' columnas y 'row' filas. \n",
    "\n",
    "Input parameters: \n",
    "* sw_col: número de 'columnas de switches'\n",
    "* sw_row: número de 'filas de switches' \n",
    "* gr_col: número de 'columnas de grupos'\n",
    "* gr_row: número de 'filas de grupos'\n",
    "* col: número de columnas/grupo\n",
    "* row: número de filas/grupo "
   ]
  },
  {
   "cell_type": "code",
   "execution_count": 1,
   "metadata": {},
   "outputs": [],
   "source": [
    "import numpy as np"
   ]
  },
  {
   "cell_type": "markdown",
   "metadata": {},
   "source": [
    "## Creación de la clase"
   ]
  },
  {
   "cell_type": "code",
   "execution_count": 16,
   "metadata": {},
   "outputs": [],
   "source": [
    "class mapeador():\n",
    "    \n",
    "    def __init__(self, path_input, path_output, dim, sw_col = 1, sw_row = 1, base = 0):\n",
    "        self.path_input = path_input\n",
    "        self.path_output = path_output\n",
    "        self.sw_col = sw_col\n",
    "        self.sw_row = sw_row\n",
    "        self.gr_col = dim[0]\n",
    "        self.gr_row = dim[1]\n",
    "        self.col = dim[2]\n",
    "        self.row = dim[3]\n",
    "        self.base = base\n",
    "        \n",
    "        self.importar_map()\n",
    "        \n",
    "    def importar_map(self):\n",
    "        with open(self.path_input, 'r') as file:\n",
    "            self.imgmap = file.read()\n",
    "    \n",
    "    def coordenadas(self):\n",
    "        #Conseguimos el diccionario con las cordenadas del rectángulo inicial y los saltos necesarios\n",
    "        coords_dict = {}\n",
    "        split = [split.split('\\\" alt=\\\"') for split in self.imgmap.split('coords=\\\"')[1:]]\n",
    "        \n",
    "        for coords in split:\n",
    "            alt = coords[1].split('\\\"  nohref')[0] #Careful: dos espacios entre \\\" y nohref\n",
    "            coords_dict[int(alt)] = coords[0]\n",
    "        \n",
    "        return coords_dict\n",
    "        \n",
    "    def distancias(self):\n",
    "        #Calculamos las distancias al rectángulo inicial (base)\n",
    "        coords_dict = self.coordenadas()\n",
    "        \n",
    "        dist_dict = {}\n",
    "        pos_base = [int(pos) for pos in coords_dict[1].split(\",\")]\n",
    "        \n",
    "        for entry in coords_dict.keys():\n",
    "            if entry == 1:\n",
    "                continue\n",
    "            pos = [int(pos) for pos in coords_dict[entry].split(\",\")]\n",
    "            dist_dict[entry] = np.subtract(pos,pos_base)\n",
    "        \n",
    "        #dist_good = {entry: list(dist_dict[entry][:2]) + list(dist_dict[entry][:2]) for entry in dist_dict.keys()} # Nos quedamos con las dos primeras entradas, y las repetimos.\n",
    "        \n",
    "        return dist_dict, pos_base\n",
    "        \n",
    "    def todas_posiciones(self):\n",
    "        #obtenemos un diccionario alt <---> posiciones de los rectángulos\n",
    "        dist_good, pos_base = self.distancias()\n",
    "    \n",
    "        alt = 1\n",
    "        all_pos = {}\n",
    "        all_pos[1 + self.base] = np.array(pos_base)\n",
    "\n",
    "        def calcular_posicion(alt,i,j,k,l,m,n):\n",
    "            #Calculo del siguiente rectángulo.\n",
    "            change = np.multiply(i,dist_good[2]) + np.multiply(j,dist_good[3]) + np.multiply(k,dist_good[self.col * self.row + 1])\n",
    "            if l: \n",
    "                change += np.multiply(l,dist_good[self.col * self.row * self.gr_col + 1])\n",
    "            if m:\n",
    "                change += np.multiply(m,dist_good[self.col * self.row * self.gr_col * self.gr_row + 1])\n",
    "            if n: \n",
    "                change += np.multiply(n,dist_good[self.col * self.row * self.gr_col * self.gr_row * self.sw_col + 1])\n",
    "\n",
    "\n",
    "            pos = np.add(pos_base, change)\n",
    "            alt += 1\n",
    "            return alt, pos \n",
    "\n",
    "        for n in range(self.sw_row):\n",
    "            for m in range(self.sw_col):\n",
    "                for l in range(self.gr_row):\n",
    "                    for k in range(self.gr_col):\n",
    "                        for j in range(self.col):\n",
    "                            for i in range(self.row):\n",
    "                                if i == 0 and j == 0 and k == 0 and l == 0 and m == 0 and n == 0:\n",
    "                                    continue\n",
    "                                alt, pos = calcular_posicion(alt,i,j,k,l,m,n)\n",
    "                                all_pos[alt + self.base] = pos\n",
    "        print(all_pos)\n",
    "        \n",
    "        return all_pos\n",
    "    \n",
    "    def preparar_output(self):\n",
    "        #Eliminar los tags que ahora sustituiremos\n",
    "        if self.base != 0:\n",
    "            with open(self.path_output, 'r') as file:\n",
    "                self.imgmap = file.read()\n",
    "        \n",
    "        splitmap = self.imgmap.split('\\n')\n",
    "        finalmap = [] \n",
    "        if self.base == 0: #borrar lineas en el fichero generado a mano\n",
    "            for split in splitmap:\n",
    "                if split.find('<area'):\n",
    "                    finalmap.append(split)\n",
    "        else: #incorporar a un fichero más filas a partir de un numero base\n",
    "            finalmap = splitmap\n",
    "            \n",
    "        return finalmap\n",
    "    \n",
    "    def generar_y_guardar(self):\n",
    "        # Insertar los tags en la lista que irá al fichero\n",
    "        all_pos = self.todas_posiciones()\n",
    "        finalmap = self.preparar_output()\n",
    "        \n",
    "        for entry in all_pos.keys():\n",
    "            intlist = all_pos[entry].tolist()\n",
    "            strlist = [str(num) for num in intlist]\n",
    "            val = \",\".join(strlist)\n",
    "            tag = f'<area shape=\"rect\" coords=\"{val}\" alt=\"{entry}\"  nohref=\"nohref\" />'\n",
    "            finalmap.insert(-2,tag)\n",
    "        \n",
    "        with open(self.path_output, 'w') as file:\n",
    "            file.write('\\n'.join(finalmap))\n",
    "        \n",
    "        print(\"\\nalright!\")"
   ]
  },
  {
   "cell_type": "markdown",
   "metadata": {},
   "source": [
    "### Caso 1: switch leafs del switch SX6536"
   ]
  },
  {
   "cell_type": "code",
   "execution_count": 17,
   "metadata": {},
   "outputs": [],
   "source": [
    "#Detalles switch:\n",
    "gr_col_1 = 3\n",
    "gr_row_1 = 1\n",
    "col_1 = 3\n",
    "row_1 = 2"
   ]
  },
  {
   "cell_type": "code",
   "execution_count": 18,
   "metadata": {},
   "outputs": [],
   "source": [
    "#Input/output:\n",
    "path_input_1 = 'mapeos/[SX6536_detalle] (imported).map'\n",
    "path_output_1 = 'mapeos/SX6536_detalle.map'"
   ]
  },
  {
   "cell_type": "code",
   "execution_count": 19,
   "metadata": {},
   "outputs": [],
   "source": [
    "leafSX6536 = mapeador(path_input_1, path_output_1, [gr_col_1, gr_row_1, col_1, row_1])"
   ]
  },
  {
   "cell_type": "code",
   "execution_count": 20,
   "metadata": {},
   "outputs": [
    {
     "name": "stdout",
     "output_type": "stream",
     "text": [
      "{1: array([108,  61, 141,  76]), 2: array([108,  84, 142,  99]), 3: array([143,  61, 176,  76]), 4: array([143,  84, 177,  99]), 5: array([178,  61, 211,  76]), 6: array([178,  84, 212,  99]), 7: array([219,  61, 251,  76]), 8: array([219,  84, 252,  99]), 9: array([254,  61, 286,  76]), 10: array([254,  84, 287,  99]), 11: array([289,  61, 321,  76]), 12: array([289,  84, 322,  99]), 13: array([330,  61, 361,  76]), 14: array([330,  84, 362,  99]), 15: array([365,  61, 396,  76]), 16: array([365,  84, 397,  99]), 17: array([400,  61, 431,  76]), 18: array([400,  84, 432,  99])}\n",
      "\n",
      "alright!\n"
     ]
    }
   ],
   "source": [
    "leafSX6536.generar_y_guardar()"
   ]
  },
  {
   "cell_type": "markdown",
   "metadata": {},
   "source": [
    "### Caso 2: switch SX6036"
   ]
  },
  {
   "cell_type": "code",
   "execution_count": 21,
   "metadata": {},
   "outputs": [],
   "source": [
    "#Detalles switch:\n",
    "gr_col_2 = 3\n",
    "gr_row_2 = 1\n",
    "col_2 = 6\n",
    "row_2 = 2"
   ]
  },
  {
   "cell_type": "code",
   "execution_count": 22,
   "metadata": {},
   "outputs": [],
   "source": [
    "#Input/output:\n",
    "path_input_2 = 'mapeos/[StorageReview-Mellanox-SX6036-InfiniBand-Switch-Front] (imported).map'\n",
    "path_output_2 = 'mapeos/SX6036_IB_Front.map'"
   ]
  },
  {
   "cell_type": "code",
   "execution_count": 23,
   "metadata": {},
   "outputs": [
    {
     "name": "stdout",
     "output_type": "stream",
     "text": [
      "{1: array([ 70,  51, 105,  67]), 2: array([ 71,  76, 106,  92]), 3: array([108,  51, 142,  67]), 4: array([109,  76, 143,  92]), 5: array([146,  51, 179,  67]), 6: array([147,  76, 180,  92]), 7: array([184,  51, 216,  67]), 8: array([185,  76, 217,  92]), 9: array([222,  51, 253,  67]), 10: array([223,  76, 254,  92]), 11: array([260,  51, 290,  67]), 12: array([261,  76, 291,  92]), 13: array([300,  53, 334,  67]), 14: array([301,  78, 335,  92]), 15: array([338,  53, 371,  67]), 16: array([339,  78, 372,  92]), 17: array([376,  53, 408,  67]), 18: array([377,  78, 409,  92]), 19: array([414,  53, 445,  67]), 20: array([415,  78, 446,  92]), 21: array([452,  53, 482,  67]), 22: array([453,  78, 483,  92]), 23: array([490,  53, 519,  67]), 24: array([491,  78, 520,  92]), 25: array([530,  55, 563,  67]), 26: array([531,  80, 564,  92]), 27: array([568,  55, 600,  67]), 28: array([569,  80, 601,  92]), 29: array([606,  55, 637,  67]), 30: array([607,  80, 638,  92]), 31: array([644,  55, 674,  67]), 32: array([645,  80, 675,  92]), 33: array([682,  55, 711,  67]), 34: array([683,  80, 712,  92]), 35: array([720,  55, 748,  67]), 36: array([721,  80, 749,  92])}\n",
      "\n",
      "alright!\n"
     ]
    }
   ],
   "source": [
    "switchSX6036 = mapeador(path_input_2, path_output_2, [gr_col_2, gr_row_2, col_2, row_2])\n",
    "switchSX6036.generar_y_guardar()"
   ]
  },
  {
   "cell_type": "markdown",
   "metadata": {},
   "source": [
    "### Caso 3: switch SX6536 (parte 1)\n",
    "\n",
    "Vamos a dividir el switch SX6536 en dos partes, ya que hay una separación con una barra de metal entre una parte con 12 switches encima de una parte con 24 (en ambos casos, en dos columnas). Esta irregularidad en la cantidad de switches existente en ambas partes hace dificil automatizarlo. Para no comerme la cabeza, simplemente he añadido un parámetro 'base' a partir del cual empezar a contar, en este caso el segundo grupo de switches comienza en el 217 (ese sería el 1, por lo que la base es 216)."
   ]
  },
  {
   "cell_type": "code",
   "execution_count": 24,
   "metadata": {},
   "outputs": [],
   "source": [
    "#Detalles switch:\n",
    "sw_col_3 = 2\n",
    "sw_row_3 = 1\n",
    "gr_col_3 = 3\n",
    "gr_row_3 = 6\n",
    "col_3 = 3\n",
    "row_3 = 2"
   ]
  },
  {
   "cell_type": "code",
   "execution_count": 25,
   "metadata": {},
   "outputs": [],
   "source": [
    "#Input/output:\n",
    "path_input_3 = 'mapeos/[sx6536] (imported).map'\n",
    "path_output_3 = 'mapeos/sx6536_full.map'"
   ]
  },
  {
   "cell_type": "code",
   "execution_count": 26,
   "metadata": {},
   "outputs": [
    {
     "name": "stdout",
     "output_type": "stream",
     "text": [
      "{1: array([ 37, 187,  47, 193]), 2: array([ 37, 197,  47, 203]), 3: array([ 51, 187,  61, 193]), 4: array([ 51, 197,  61, 203]), 5: array([ 65, 187,  75, 193]), 6: array([ 65, 197,  75, 203]), 7: array([ 83, 187,  93, 193]), 8: array([ 83, 197,  93, 203]), 9: array([ 97, 187, 107, 193]), 10: array([ 97, 197, 107, 203]), 11: array([111, 187, 121, 193]), 12: array([111, 197, 121, 203]), 13: array([129, 187, 139, 193]), 14: array([129, 197, 139, 203]), 15: array([143, 187, 153, 193]), 16: array([143, 197, 153, 203]), 17: array([157, 187, 167, 193]), 18: array([157, 197, 167, 203]), 19: array([ 37, 223,  47, 229]), 20: array([ 37, 233,  47, 239]), 21: array([ 51, 223,  61, 229]), 22: array([ 51, 233,  61, 239]), 23: array([ 65, 223,  75, 229]), 24: array([ 65, 233,  75, 239]), 25: array([ 83, 223,  93, 229]), 26: array([ 83, 233,  93, 239]), 27: array([ 97, 223, 107, 229]), 28: array([ 97, 233, 107, 239]), 29: array([111, 223, 121, 229]), 30: array([111, 233, 121, 239]), 31: array([129, 223, 139, 229]), 32: array([129, 233, 139, 239]), 33: array([143, 223, 153, 229]), 34: array([143, 233, 153, 239]), 35: array([157, 223, 167, 229]), 36: array([157, 233, 167, 239]), 37: array([ 37, 259,  47, 265]), 38: array([ 37, 269,  47, 275]), 39: array([ 51, 259,  61, 265]), 40: array([ 51, 269,  61, 275]), 41: array([ 65, 259,  75, 265]), 42: array([ 65, 269,  75, 275]), 43: array([ 83, 259,  93, 265]), 44: array([ 83, 269,  93, 275]), 45: array([ 97, 259, 107, 265]), 46: array([ 97, 269, 107, 275]), 47: array([111, 259, 121, 265]), 48: array([111, 269, 121, 275]), 49: array([129, 259, 139, 265]), 50: array([129, 269, 139, 275]), 51: array([143, 259, 153, 265]), 52: array([143, 269, 153, 275]), 53: array([157, 259, 167, 265]), 54: array([157, 269, 167, 275]), 55: array([ 37, 295,  47, 301]), 56: array([ 37, 305,  47, 311]), 57: array([ 51, 295,  61, 301]), 58: array([ 51, 305,  61, 311]), 59: array([ 65, 295,  75, 301]), 60: array([ 65, 305,  75, 311]), 61: array([ 83, 295,  93, 301]), 62: array([ 83, 305,  93, 311]), 63: array([ 97, 295, 107, 301]), 64: array([ 97, 305, 107, 311]), 65: array([111, 295, 121, 301]), 66: array([111, 305, 121, 311]), 67: array([129, 295, 139, 301]), 68: array([129, 305, 139, 311]), 69: array([143, 295, 153, 301]), 70: array([143, 305, 153, 311]), 71: array([157, 295, 167, 301]), 72: array([157, 305, 167, 311]), 73: array([ 37, 331,  47, 337]), 74: array([ 37, 341,  47, 347]), 75: array([ 51, 331,  61, 337]), 76: array([ 51, 341,  61, 347]), 77: array([ 65, 331,  75, 337]), 78: array([ 65, 341,  75, 347]), 79: array([ 83, 331,  93, 337]), 80: array([ 83, 341,  93, 347]), 81: array([ 97, 331, 107, 337]), 82: array([ 97, 341, 107, 347]), 83: array([111, 331, 121, 337]), 84: array([111, 341, 121, 347]), 85: array([129, 331, 139, 337]), 86: array([129, 341, 139, 347]), 87: array([143, 331, 153, 337]), 88: array([143, 341, 153, 347]), 89: array([157, 331, 167, 337]), 90: array([157, 341, 167, 347]), 91: array([ 37, 367,  47, 373]), 92: array([ 37, 377,  47, 383]), 93: array([ 51, 367,  61, 373]), 94: array([ 51, 377,  61, 383]), 95: array([ 65, 367,  75, 373]), 96: array([ 65, 377,  75, 383]), 97: array([ 83, 367,  93, 373]), 98: array([ 83, 377,  93, 383]), 99: array([ 97, 367, 107, 373]), 100: array([ 97, 377, 107, 383]), 101: array([111, 367, 121, 373]), 102: array([111, 377, 121, 383]), 103: array([129, 367, 139, 373]), 104: array([129, 377, 139, 383]), 105: array([143, 367, 153, 373]), 106: array([143, 377, 153, 383]), 107: array([157, 367, 167, 373]), 108: array([157, 377, 167, 383]), 109: array([201, 187, 211, 193]), 110: array([201, 197, 211, 203]), 111: array([215, 187, 225, 193]), 112: array([215, 197, 225, 203]), 113: array([229, 187, 239, 193]), 114: array([229, 197, 239, 203]), 115: array([247, 187, 257, 193]), 116: array([247, 197, 257, 203]), 117: array([261, 187, 271, 193]), 118: array([261, 197, 271, 203]), 119: array([275, 187, 285, 193]), 120: array([275, 197, 285, 203]), 121: array([293, 187, 303, 193]), 122: array([293, 197, 303, 203]), 123: array([307, 187, 317, 193]), 124: array([307, 197, 317, 203]), 125: array([321, 187, 331, 193]), 126: array([321, 197, 331, 203]), 127: array([201, 223, 211, 229]), 128: array([201, 233, 211, 239]), 129: array([215, 223, 225, 229]), 130: array([215, 233, 225, 239]), 131: array([229, 223, 239, 229]), 132: array([229, 233, 239, 239]), 133: array([247, 223, 257, 229]), 134: array([247, 233, 257, 239]), 135: array([261, 223, 271, 229]), 136: array([261, 233, 271, 239]), 137: array([275, 223, 285, 229]), 138: array([275, 233, 285, 239]), 139: array([293, 223, 303, 229]), 140: array([293, 233, 303, 239]), 141: array([307, 223, 317, 229]), 142: array([307, 233, 317, 239]), 143: array([321, 223, 331, 229]), 144: array([321, 233, 331, 239]), 145: array([201, 259, 211, 265]), 146: array([201, 269, 211, 275]), 147: array([215, 259, 225, 265]), 148: array([215, 269, 225, 275]), 149: array([229, 259, 239, 265]), 150: array([229, 269, 239, 275]), 151: array([247, 259, 257, 265]), 152: array([247, 269, 257, 275]), 153: array([261, 259, 271, 265]), 154: array([261, 269, 271, 275]), 155: array([275, 259, 285, 265]), 156: array([275, 269, 285, 275]), 157: array([293, 259, 303, 265]), 158: array([293, 269, 303, 275]), 159: array([307, 259, 317, 265]), 160: array([307, 269, 317, 275]), 161: array([321, 259, 331, 265]), 162: array([321, 269, 331, 275]), 163: array([201, 295, 211, 301]), 164: array([201, 305, 211, 311]), 165: array([215, 295, 225, 301]), 166: array([215, 305, 225, 311]), 167: array([229, 295, 239, 301]), 168: array([229, 305, 239, 311]), 169: array([247, 295, 257, 301]), 170: array([247, 305, 257, 311]), 171: array([261, 295, 271, 301]), 172: array([261, 305, 271, 311]), 173: array([275, 295, 285, 301]), 174: array([275, 305, 285, 311]), 175: array([293, 295, 303, 301]), 176: array([293, 305, 303, 311]), 177: array([307, 295, 317, 301]), 178: array([307, 305, 317, 311]), 179: array([321, 295, 331, 301]), 180: array([321, 305, 331, 311]), 181: array([201, 331, 211, 337]), 182: array([201, 341, 211, 347]), 183: array([215, 331, 225, 337]), 184: array([215, 341, 225, 347]), 185: array([229, 331, 239, 337]), 186: array([229, 341, 239, 347]), 187: array([247, 331, 257, 337]), 188: array([247, 341, 257, 347]), 189: array([261, 331, 271, 337]), 190: array([261, 341, 271, 347]), 191: array([275, 331, 285, 337]), 192: array([275, 341, 285, 347]), 193: array([293, 331, 303, 337]), 194: array([293, 341, 303, 347]), 195: array([307, 331, 317, 337]), 196: array([307, 341, 317, 347]), 197: array([321, 331, 331, 337]), 198: array([321, 341, 331, 347]), 199: array([201, 367, 211, 373]), 200: array([201, 377, 211, 383]), 201: array([215, 367, 225, 373]), 202: array([215, 377, 225, 383]), 203: array([229, 367, 239, 373]), 204: array([229, 377, 239, 383]), 205: array([247, 367, 257, 373]), 206: array([247, 377, 257, 383]), 207: array([261, 367, 271, 373]), 208: array([261, 377, 271, 383]), 209: array([275, 367, 285, 373]), 210: array([275, 377, 285, 383]), 211: array([293, 367, 303, 373]), 212: array([293, 377, 303, 383]), 213: array([307, 367, 317, 373]), 214: array([307, 377, 317, 383]), 215: array([321, 367, 331, 373]), 216: array([321, 377, 331, 383])}\n",
      "\n",
      "alright!\n"
     ]
    }
   ],
   "source": [
    "switchSX6036 = mapeador(path_input_3, path_output_3, [gr_col_3, gr_row_3, col_3, row_3], sw_col = sw_col_3, sw_row = sw_row_3)\n",
    "switchSX6036.generar_y_guardar()"
   ]
  },
  {
   "cell_type": "markdown",
   "metadata": {},
   "source": [
    "### Caso 3: switch SX6536 (parte 2)"
   ]
  },
  {
   "cell_type": "code",
   "execution_count": 27,
   "metadata": {},
   "outputs": [],
   "source": [
    "#Detalles switch:\n",
    "sw_col_32 = 2\n",
    "sw_row_32 = 1\n",
    "gr_col_32 = 3\n",
    "gr_row_32 = 12\n",
    "col_32 = 3\n",
    "row_32 = 2\n",
    "base = 216"
   ]
  },
  {
   "cell_type": "code",
   "execution_count": 28,
   "metadata": {},
   "outputs": [],
   "source": [
    "#Input/output:\n",
    "path_input_32 = 'mapeos/[sx6536] (imported) - 2.map'\n",
    "path_output_32 = 'mapeos/sx6536_full.map'"
   ]
  },
  {
   "cell_type": "code",
   "execution_count": 29,
   "metadata": {},
   "outputs": [
    {
     "name": "stdout",
     "output_type": "stream",
     "text": [
      "{217: array([ 37, 405,  47, 411]), 218: array([ 37, 415,  47, 421]), 219: array([ 51, 405,  61, 411]), 220: array([ 51, 415,  61, 421]), 221: array([ 65, 405,  75, 411]), 222: array([ 65, 415,  75, 421]), 223: array([ 83, 405,  93, 411]), 224: array([ 83, 415,  93, 421]), 225: array([ 97, 405, 107, 411]), 226: array([ 97, 415, 107, 421]), 227: array([111, 405, 121, 411]), 228: array([111, 415, 121, 421]), 229: array([129, 405, 139, 411]), 230: array([129, 415, 139, 421]), 231: array([143, 405, 153, 411]), 232: array([143, 415, 153, 421]), 233: array([157, 405, 167, 411]), 234: array([157, 415, 167, 421]), 235: array([ 37, 441,  47, 447]), 236: array([ 37, 451,  47, 457]), 237: array([ 51, 441,  61, 447]), 238: array([ 51, 451,  61, 457]), 239: array([ 65, 441,  75, 447]), 240: array([ 65, 451,  75, 457]), 241: array([ 83, 441,  93, 447]), 242: array([ 83, 451,  93, 457]), 243: array([ 97, 441, 107, 447]), 244: array([ 97, 451, 107, 457]), 245: array([111, 441, 121, 447]), 246: array([111, 451, 121, 457]), 247: array([129, 441, 139, 447]), 248: array([129, 451, 139, 457]), 249: array([143, 441, 153, 447]), 250: array([143, 451, 153, 457]), 251: array([157, 441, 167, 447]), 252: array([157, 451, 167, 457]), 253: array([ 37, 477,  47, 483]), 254: array([ 37, 487,  47, 493]), 255: array([ 51, 477,  61, 483]), 256: array([ 51, 487,  61, 493]), 257: array([ 65, 477,  75, 483]), 258: array([ 65, 487,  75, 493]), 259: array([ 83, 477,  93, 483]), 260: array([ 83, 487,  93, 493]), 261: array([ 97, 477, 107, 483]), 262: array([ 97, 487, 107, 493]), 263: array([111, 477, 121, 483]), 264: array([111, 487, 121, 493]), 265: array([129, 477, 139, 483]), 266: array([129, 487, 139, 493]), 267: array([143, 477, 153, 483]), 268: array([143, 487, 153, 493]), 269: array([157, 477, 167, 483]), 270: array([157, 487, 167, 493]), 271: array([ 37, 513,  47, 519]), 272: array([ 37, 523,  47, 529]), 273: array([ 51, 513,  61, 519]), 274: array([ 51, 523,  61, 529]), 275: array([ 65, 513,  75, 519]), 276: array([ 65, 523,  75, 529]), 277: array([ 83, 513,  93, 519]), 278: array([ 83, 523,  93, 529]), 279: array([ 97, 513, 107, 519]), 280: array([ 97, 523, 107, 529]), 281: array([111, 513, 121, 519]), 282: array([111, 523, 121, 529]), 283: array([129, 513, 139, 519]), 284: array([129, 523, 139, 529]), 285: array([143, 513, 153, 519]), 286: array([143, 523, 153, 529]), 287: array([157, 513, 167, 519]), 288: array([157, 523, 167, 529]), 289: array([ 37, 549,  47, 555]), 290: array([ 37, 559,  47, 565]), 291: array([ 51, 549,  61, 555]), 292: array([ 51, 559,  61, 565]), 293: array([ 65, 549,  75, 555]), 294: array([ 65, 559,  75, 565]), 295: array([ 83, 549,  93, 555]), 296: array([ 83, 559,  93, 565]), 297: array([ 97, 549, 107, 555]), 298: array([ 97, 559, 107, 565]), 299: array([111, 549, 121, 555]), 300: array([111, 559, 121, 565]), 301: array([129, 549, 139, 555]), 302: array([129, 559, 139, 565]), 303: array([143, 549, 153, 555]), 304: array([143, 559, 153, 565]), 305: array([157, 549, 167, 555]), 306: array([157, 559, 167, 565]), 307: array([ 37, 585,  47, 591]), 308: array([ 37, 595,  47, 601]), 309: array([ 51, 585,  61, 591]), 310: array([ 51, 595,  61, 601]), 311: array([ 65, 585,  75, 591]), 312: array([ 65, 595,  75, 601]), 313: array([ 83, 585,  93, 591]), 314: array([ 83, 595,  93, 601]), 315: array([ 97, 585, 107, 591]), 316: array([ 97, 595, 107, 601]), 317: array([111, 585, 121, 591]), 318: array([111, 595, 121, 601]), 319: array([129, 585, 139, 591]), 320: array([129, 595, 139, 601]), 321: array([143, 585, 153, 591]), 322: array([143, 595, 153, 601]), 323: array([157, 585, 167, 591]), 324: array([157, 595, 167, 601]), 325: array([ 37, 621,  47, 627]), 326: array([ 37, 631,  47, 637]), 327: array([ 51, 621,  61, 627]), 328: array([ 51, 631,  61, 637]), 329: array([ 65, 621,  75, 627]), 330: array([ 65, 631,  75, 637]), 331: array([ 83, 621,  93, 627]), 332: array([ 83, 631,  93, 637]), 333: array([ 97, 621, 107, 627]), 334: array([ 97, 631, 107, 637]), 335: array([111, 621, 121, 627]), 336: array([111, 631, 121, 637]), 337: array([129, 621, 139, 627]), 338: array([129, 631, 139, 637]), 339: array([143, 621, 153, 627]), 340: array([143, 631, 153, 637]), 341: array([157, 621, 167, 627]), 342: array([157, 631, 167, 637]), 343: array([ 37, 657,  47, 663]), 344: array([ 37, 667,  47, 673]), 345: array([ 51, 657,  61, 663]), 346: array([ 51, 667,  61, 673]), 347: array([ 65, 657,  75, 663]), 348: array([ 65, 667,  75, 673]), 349: array([ 83, 657,  93, 663]), 350: array([ 83, 667,  93, 673]), 351: array([ 97, 657, 107, 663]), 352: array([ 97, 667, 107, 673]), 353: array([111, 657, 121, 663]), 354: array([111, 667, 121, 673]), 355: array([129, 657, 139, 663]), 356: array([129, 667, 139, 673]), 357: array([143, 657, 153, 663]), 358: array([143, 667, 153, 673]), 359: array([157, 657, 167, 663]), 360: array([157, 667, 167, 673]), 361: array([ 37, 693,  47, 699]), 362: array([ 37, 703,  47, 709]), 363: array([ 51, 693,  61, 699]), 364: array([ 51, 703,  61, 709]), 365: array([ 65, 693,  75, 699]), 366: array([ 65, 703,  75, 709]), 367: array([ 83, 693,  93, 699]), 368: array([ 83, 703,  93, 709]), 369: array([ 97, 693, 107, 699]), 370: array([ 97, 703, 107, 709]), 371: array([111, 693, 121, 699]), 372: array([111, 703, 121, 709]), 373: array([129, 693, 139, 699]), 374: array([129, 703, 139, 709]), 375: array([143, 693, 153, 699]), 376: array([143, 703, 153, 709]), 377: array([157, 693, 167, 699]), 378: array([157, 703, 167, 709]), 379: array([ 37, 729,  47, 735]), 380: array([ 37, 739,  47, 745]), 381: array([ 51, 729,  61, 735]), 382: array([ 51, 739,  61, 745]), 383: array([ 65, 729,  75, 735]), 384: array([ 65, 739,  75, 745]), 385: array([ 83, 729,  93, 735]), 386: array([ 83, 739,  93, 745]), 387: array([ 97, 729, 107, 735]), 388: array([ 97, 739, 107, 745]), 389: array([111, 729, 121, 735]), 390: array([111, 739, 121, 745]), 391: array([129, 729, 139, 735]), 392: array([129, 739, 139, 745]), 393: array([143, 729, 153, 735]), 394: array([143, 739, 153, 745]), 395: array([157, 729, 167, 735]), 396: array([157, 739, 167, 745]), 397: array([ 37, 765,  47, 771]), 398: array([ 37, 775,  47, 781]), 399: array([ 51, 765,  61, 771]), 400: array([ 51, 775,  61, 781]), 401: array([ 65, 765,  75, 771]), 402: array([ 65, 775,  75, 781]), 403: array([ 83, 765,  93, 771]), 404: array([ 83, 775,  93, 781]), 405: array([ 97, 765, 107, 771]), 406: array([ 97, 775, 107, 781]), 407: array([111, 765, 121, 771]), 408: array([111, 775, 121, 781]), 409: array([129, 765, 139, 771]), 410: array([129, 775, 139, 781]), 411: array([143, 765, 153, 771]), 412: array([143, 775, 153, 781]), 413: array([157, 765, 167, 771]), 414: array([157, 775, 167, 781]), 415: array([ 37, 801,  47, 807]), 416: array([ 37, 811,  47, 817]), 417: array([ 51, 801,  61, 807]), 418: array([ 51, 811,  61, 817]), 419: array([ 65, 801,  75, 807]), 420: array([ 65, 811,  75, 817]), 421: array([ 83, 801,  93, 807]), 422: array([ 83, 811,  93, 817]), 423: array([ 97, 801, 107, 807]), 424: array([ 97, 811, 107, 817]), 425: array([111, 801, 121, 807]), 426: array([111, 811, 121, 817]), 427: array([129, 801, 139, 807]), 428: array([129, 811, 139, 817]), 429: array([143, 801, 153, 807]), 430: array([143, 811, 153, 817]), 431: array([157, 801, 167, 807]), 432: array([157, 811, 167, 817]), 433: array([201, 405, 211, 411]), 434: array([201, 415, 211, 421]), 435: array([215, 405, 225, 411]), 436: array([215, 415, 225, 421]), 437: array([229, 405, 239, 411]), 438: array([229, 415, 239, 421]), 439: array([247, 405, 257, 411]), 440: array([247, 415, 257, 421]), 441: array([261, 405, 271, 411]), 442: array([261, 415, 271, 421]), 443: array([275, 405, 285, 411]), 444: array([275, 415, 285, 421]), 445: array([293, 405, 303, 411]), 446: array([293, 415, 303, 421]), 447: array([307, 405, 317, 411]), 448: array([307, 415, 317, 421]), 449: array([321, 405, 331, 411]), 450: array([321, 415, 331, 421]), 451: array([201, 441, 211, 447]), 452: array([201, 451, 211, 457]), 453: array([215, 441, 225, 447]), 454: array([215, 451, 225, 457]), 455: array([229, 441, 239, 447]), 456: array([229, 451, 239, 457]), 457: array([247, 441, 257, 447]), 458: array([247, 451, 257, 457]), 459: array([261, 441, 271, 447]), 460: array([261, 451, 271, 457]), 461: array([275, 441, 285, 447]), 462: array([275, 451, 285, 457]), 463: array([293, 441, 303, 447]), 464: array([293, 451, 303, 457]), 465: array([307, 441, 317, 447]), 466: array([307, 451, 317, 457]), 467: array([321, 441, 331, 447]), 468: array([321, 451, 331, 457]), 469: array([201, 477, 211, 483]), 470: array([201, 487, 211, 493]), 471: array([215, 477, 225, 483]), 472: array([215, 487, 225, 493]), 473: array([229, 477, 239, 483]), 474: array([229, 487, 239, 493]), 475: array([247, 477, 257, 483]), 476: array([247, 487, 257, 493]), 477: array([261, 477, 271, 483]), 478: array([261, 487, 271, 493]), 479: array([275, 477, 285, 483]), 480: array([275, 487, 285, 493]), 481: array([293, 477, 303, 483]), 482: array([293, 487, 303, 493]), 483: array([307, 477, 317, 483]), 484: array([307, 487, 317, 493]), 485: array([321, 477, 331, 483]), 486: array([321, 487, 331, 493]), 487: array([201, 513, 211, 519]), 488: array([201, 523, 211, 529]), 489: array([215, 513, 225, 519]), 490: array([215, 523, 225, 529]), 491: array([229, 513, 239, 519]), 492: array([229, 523, 239, 529]), 493: array([247, 513, 257, 519]), 494: array([247, 523, 257, 529]), 495: array([261, 513, 271, 519]), 496: array([261, 523, 271, 529]), 497: array([275, 513, 285, 519]), 498: array([275, 523, 285, 529]), 499: array([293, 513, 303, 519]), 500: array([293, 523, 303, 529]), 501: array([307, 513, 317, 519]), 502: array([307, 523, 317, 529]), 503: array([321, 513, 331, 519]), 504: array([321, 523, 331, 529]), 505: array([201, 549, 211, 555]), 506: array([201, 559, 211, 565]), 507: array([215, 549, 225, 555]), 508: array([215, 559, 225, 565]), 509: array([229, 549, 239, 555]), 510: array([229, 559, 239, 565]), 511: array([247, 549, 257, 555]), 512: array([247, 559, 257, 565]), 513: array([261, 549, 271, 555]), 514: array([261, 559, 271, 565]), 515: array([275, 549, 285, 555]), 516: array([275, 559, 285, 565]), 517: array([293, 549, 303, 555]), 518: array([293, 559, 303, 565]), 519: array([307, 549, 317, 555]), 520: array([307, 559, 317, 565]), 521: array([321, 549, 331, 555]), 522: array([321, 559, 331, 565]), 523: array([201, 585, 211, 591]), 524: array([201, 595, 211, 601]), 525: array([215, 585, 225, 591]), 526: array([215, 595, 225, 601]), 527: array([229, 585, 239, 591]), 528: array([229, 595, 239, 601]), 529: array([247, 585, 257, 591]), 530: array([247, 595, 257, 601]), 531: array([261, 585, 271, 591]), 532: array([261, 595, 271, 601]), 533: array([275, 585, 285, 591]), 534: array([275, 595, 285, 601]), 535: array([293, 585, 303, 591]), 536: array([293, 595, 303, 601]), 537: array([307, 585, 317, 591]), 538: array([307, 595, 317, 601]), 539: array([321, 585, 331, 591]), 540: array([321, 595, 331, 601]), 541: array([201, 621, 211, 627]), 542: array([201, 631, 211, 637]), 543: array([215, 621, 225, 627]), 544: array([215, 631, 225, 637]), 545: array([229, 621, 239, 627]), 546: array([229, 631, 239, 637]), 547: array([247, 621, 257, 627]), 548: array([247, 631, 257, 637]), 549: array([261, 621, 271, 627]), 550: array([261, 631, 271, 637]), 551: array([275, 621, 285, 627]), 552: array([275, 631, 285, 637]), 553: array([293, 621, 303, 627]), 554: array([293, 631, 303, 637]), 555: array([307, 621, 317, 627]), 556: array([307, 631, 317, 637]), 557: array([321, 621, 331, 627]), 558: array([321, 631, 331, 637]), 559: array([201, 657, 211, 663]), 560: array([201, 667, 211, 673]), 561: array([215, 657, 225, 663]), 562: array([215, 667, 225, 673]), 563: array([229, 657, 239, 663]), 564: array([229, 667, 239, 673]), 565: array([247, 657, 257, 663]), 566: array([247, 667, 257, 673]), 567: array([261, 657, 271, 663]), 568: array([261, 667, 271, 673]), 569: array([275, 657, 285, 663]), 570: array([275, 667, 285, 673]), 571: array([293, 657, 303, 663]), 572: array([293, 667, 303, 673]), 573: array([307, 657, 317, 663]), 574: array([307, 667, 317, 673]), 575: array([321, 657, 331, 663]), 576: array([321, 667, 331, 673]), 577: array([201, 693, 211, 699]), 578: array([201, 703, 211, 709]), 579: array([215, 693, 225, 699]), 580: array([215, 703, 225, 709]), 581: array([229, 693, 239, 699]), 582: array([229, 703, 239, 709]), 583: array([247, 693, 257, 699]), 584: array([247, 703, 257, 709]), 585: array([261, 693, 271, 699]), 586: array([261, 703, 271, 709]), 587: array([275, 693, 285, 699]), 588: array([275, 703, 285, 709]), 589: array([293, 693, 303, 699]), 590: array([293, 703, 303, 709]), 591: array([307, 693, 317, 699]), 592: array([307, 703, 317, 709]), 593: array([321, 693, 331, 699]), 594: array([321, 703, 331, 709]), 595: array([201, 729, 211, 735]), 596: array([201, 739, 211, 745]), 597: array([215, 729, 225, 735]), 598: array([215, 739, 225, 745]), 599: array([229, 729, 239, 735]), 600: array([229, 739, 239, 745]), 601: array([247, 729, 257, 735]), 602: array([247, 739, 257, 745]), 603: array([261, 729, 271, 735]), 604: array([261, 739, 271, 745]), 605: array([275, 729, 285, 735]), 606: array([275, 739, 285, 745]), 607: array([293, 729, 303, 735]), 608: array([293, 739, 303, 745]), 609: array([307, 729, 317, 735]), 610: array([307, 739, 317, 745]), 611: array([321, 729, 331, 735]), 612: array([321, 739, 331, 745]), 613: array([201, 765, 211, 771]), 614: array([201, 775, 211, 781]), 615: array([215, 765, 225, 771]), 616: array([215, 775, 225, 781]), 617: array([229, 765, 239, 771]), 618: array([229, 775, 239, 781]), 619: array([247, 765, 257, 771]), 620: array([247, 775, 257, 781]), 621: array([261, 765, 271, 771]), 622: array([261, 775, 271, 781]), 623: array([275, 765, 285, 771]), 624: array([275, 775, 285, 781]), 625: array([293, 765, 303, 771]), 626: array([293, 775, 303, 781]), 627: array([307, 765, 317, 771]), 628: array([307, 775, 317, 781]), 629: array([321, 765, 331, 771]), 630: array([321, 775, 331, 781]), 631: array([201, 801, 211, 807]), 632: array([201, 811, 211, 817]), 633: array([215, 801, 225, 807]), 634: array([215, 811, 225, 817]), 635: array([229, 801, 239, 807]), 636: array([229, 811, 239, 817]), 637: array([247, 801, 257, 807]), 638: array([247, 811, 257, 817]), 639: array([261, 801, 271, 807]), 640: array([261, 811, 271, 817]), 641: array([275, 801, 285, 807]), 642: array([275, 811, 285, 817]), 643: array([293, 801, 303, 807]), 644: array([293, 811, 303, 817]), 645: array([307, 801, 317, 807]), 646: array([307, 811, 317, 817]), 647: array([321, 801, 331, 807]), 648: array([321, 811, 331, 817])}\n",
      "\n",
      "alright!\n"
     ]
    }
   ],
   "source": [
    "switchSX6036_2 = mapeador(path_input_32, path_output_32, [gr_col_32, gr_row_32, col_32, row_32], sw_col = sw_col_32, sw_row = sw_row_32, base = base)\n",
    "switchSX6036_2.generar_y_guardar()"
   ]
  },
  {
   "cell_type": "code",
   "execution_count": null,
   "metadata": {},
   "outputs": [],
   "source": []
  },
  {
   "cell_type": "code",
   "execution_count": null,
   "metadata": {},
   "outputs": [],
   "source": []
  },
  {
   "cell_type": "code",
   "execution_count": null,
   "metadata": {},
   "outputs": [],
   "source": []
  },
  {
   "cell_type": "code",
   "execution_count": null,
   "metadata": {},
   "outputs": [],
   "source": []
  }
 ],
 "metadata": {
  "kernelspec": {
   "display_name": "Python 3",
   "language": "python",
   "name": "python3"
  },
  "language_info": {
   "codemirror_mode": {
    "name": "ipython",
    "version": 3
   },
   "file_extension": ".py",
   "mimetype": "text/x-python",
   "name": "python",
   "nbconvert_exporter": "python",
   "pygments_lexer": "ipython3",
   "version": "3.9.1"
  }
 },
 "nbformat": 4,
 "nbformat_minor": 4
}
