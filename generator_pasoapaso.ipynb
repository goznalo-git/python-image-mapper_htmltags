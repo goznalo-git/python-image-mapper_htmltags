{
 "cells": [
  {
   "cell_type": "code",
   "execution_count": 7,
   "metadata": {},
   "outputs": [],
   "source": [
    "import numpy as np"
   ]
  },
  {
   "cell_type": "code",
   "execution_count": 19,
   "metadata": {},
   "outputs": [],
   "source": [
    "def mostrar(path):\n",
    "    with open(path, 'r') as file:\n",
    "        imgmap = file.read()\n",
    "    print(imgmap)\n",
    "    return imgmap"
   ]
  },
  {
   "cell_type": "code",
   "execution_count": 20,
   "metadata": {},
   "outputs": [],
   "source": [
    "#Detalles switch:\n",
    "gr_col = 3\n",
    "gr_row = 1\n",
    "col = 3\n",
    "row = 2"
   ]
  },
  {
   "cell_type": "code",
   "execution_count": 21,
   "metadata": {},
   "outputs": [
    {
     "name": "stdout",
     "output_type": "stream",
     "text": [
      "<img src=\"[SX6536_detalle] (imported)\" width=\"538\" height=\"141\" border=\"0\" usemap=\"#map\" />\n",
      "\n",
      "<map name=\"map\">\n",
      "<!-- #$-:Image map file created by GIMP Image Map plug-in -->\n",
      "<!-- #$-:GIMP Image Map plug-in by Maurits Rijk -->\n",
      "<!-- #$-:Please do not edit lines starting with \"#$\" -->\n",
      "<!-- #$VERSION:2.3 -->\n",
      "<!-- #$AUTHOR:Gonzalo Contreras Aso  -->\n",
      "<area shape=\"rect\" coords=\"108,61,141,76\" alt=\"1\"  nohref=\"nohref\" />\n",
      "<area shape=\"rect\" coords=\"143,61,176,76\" alt=\"3\"  nohref=\"nohref\" />\n",
      "<area shape=\"rect\" coords=\"108,84,142,99\" alt=\"2\"  nohref=\"nohref\" />\n",
      "<area shape=\"rect\" coords=\"219,61,251,76\" alt=\"7\"  nohref=\"nohref\" />\n",
      "</map>\n",
      "\n"
     ]
    }
   ],
   "source": [
    "#Abrimos el .map inicial con el rectángulo inicial y los 3 saltos necesarios\n",
    "path_input = 'imagenes_y_maps/[SX6536_detalle] (imported).map'\n",
    "imgmap = mostrar(path_input)"
   ]
  },
  {
   "cell_type": "code",
   "execution_count": 22,
   "metadata": {},
   "outputs": [
    {
     "data": {
      "text/plain": [
       "{1: '108,61,141,76',\n",
       " 3: '143,61,176,76',\n",
       " 2: '108,84,142,99',\n",
       " 7: '219,61,251,76'}"
      ]
     },
     "execution_count": 22,
     "metadata": {},
     "output_type": "execute_result"
    }
   ],
   "source": [
    "#Conseguimos el diccionario con las cordenadas del rectángulo inicial y los saltos necesarios\n",
    "coords_dict = {}\n",
    "split = [split.split('\\\" alt=\\\"') for split in imgmap.split('coords=\\\"')[1:]]\n",
    "for coords in split:\n",
    "    alt = coords[1].split('\\\"  nohref')[0] #Careful: dos espacios entre \\\" y nohref\n",
    "    coords_dict[int(alt)] = coords[0]\n",
    "coords_dict"
   ]
  },
  {
   "cell_type": "code",
   "execution_count": 23,
   "metadata": {},
   "outputs": [
    {
     "data": {
      "text/plain": [
       "{3: array([35,  0, 35,  0]),\n",
       " 2: array([ 0, 23,  1, 23]),\n",
       " 7: array([111,   0, 110,   0])}"
      ]
     },
     "execution_count": 23,
     "metadata": {},
     "output_type": "execute_result"
    }
   ],
   "source": [
    "dist_dict = {}\n",
    "pos_base = [int(pos) for pos in coords_dict[1].split(\",\")]\n",
    "for entry in coords_dict.keys():\n",
    "    if entry == 1:\n",
    "        continue\n",
    "    pos = [int(pos) for pos in coords_dict[entry].split(\",\")]\n",
    "    dist_dict[entry] = np.subtract(pos,pos_base)\n",
    "dist_dict"
   ]
  },
  {
   "cell_type": "code",
   "execution_count": 24,
   "metadata": {},
   "outputs": [
    {
     "data": {
      "text/plain": [
       "{3: [35, 0, 35, 0], 2: [0, 23, 0, 23], 7: [111, 0, 111, 0]}"
      ]
     },
     "execution_count": 24,
     "metadata": {},
     "output_type": "execute_result"
    }
   ],
   "source": [
    "#Nos vamos a quedar con los dos primeros números de cada: los dos siguientes en un mundo perfecto debería ser iguales, y el bucle se asegurará de ello.\n",
    "dist_good = {entry: list(dist_dict[entry][:2]) + list(dist_dict[entry][:2]) for entry in dist_dict.keys()}\n",
    "dist_good"
   ]
  },
  {
   "cell_type": "code",
   "execution_count": 25,
   "metadata": {},
   "outputs": [
    {
     "data": {
      "text/plain": [
       "{1: array([108,  61, 141,  76]),\n",
       " 2: array([108,  84, 141,  99]),\n",
       " 3: array([143,  61, 176,  76]),\n",
       " 4: array([143,  84, 176,  99]),\n",
       " 5: array([178,  61, 211,  76]),\n",
       " 6: array([178,  84, 211,  99]),\n",
       " 7: array([219,  61, 252,  76]),\n",
       " 8: array([219,  84, 252,  99]),\n",
       " 9: array([254,  61, 287,  76]),\n",
       " 10: array([254,  84, 287,  99]),\n",
       " 11: array([289,  61, 322,  76]),\n",
       " 12: array([289,  84, 322,  99]),\n",
       " 13: array([330,  61, 363,  76]),\n",
       " 14: array([330,  84, 363,  99]),\n",
       " 15: array([365,  61, 398,  76]),\n",
       " 16: array([365,  84, 398,  99]),\n",
       " 17: array([400,  61, 433,  76]),\n",
       " 18: array([400,  84, 433,  99])}"
      ]
     },
     "execution_count": 25,
     "metadata": {},
     "output_type": "execute_result"
    }
   ],
   "source": [
    "alt = 1\n",
    "all_pos = {}\n",
    "all_pos[1] = np.array(pos_base)\n",
    "\n",
    "def calcular_posicion(alt,i,j,k,l):\n",
    "    change = np.multiply(i,dist_good[2]) + np.multiply(j,dist_good[3]) + np.multiply(k,dist_good[7]) \n",
    "    pos = np.add(pos_base, change)\n",
    "    alt += 1\n",
    "    return alt, pos \n",
    "\n",
    "for l in range(0,gr_row):\n",
    "    for k in range(0,gr_col):\n",
    "        for j in range(0,col):\n",
    "            for i in range(0,row):\n",
    "                if i == 0 and j == 0 and k == 0 and l == 0:\n",
    "                    continue\n",
    "                alt, pos = calcular_posicion(alt,i,j,k,l)\n",
    "                all_pos[alt] = pos\n",
    "all_pos"
   ]
  },
  {
   "cell_type": "code",
   "execution_count": 26,
   "metadata": {},
   "outputs": [
    {
     "data": {
      "text/plain": [
       "['<img src=\"[SX6536_detalle] (imported)\" width=\"538\" height=\"141\" border=\"0\" usemap=\"#map\" />',\n",
       " '',\n",
       " '<map name=\"map\">',\n",
       " '<!-- #$-:Image map file created by GIMP Image Map plug-in -->',\n",
       " '<!-- #$-:GIMP Image Map plug-in by Maurits Rijk -->',\n",
       " '<!-- #$-:Please do not edit lines starting with \"#$\" -->',\n",
       " '<!-- #$VERSION:2.3 -->',\n",
       " '<!-- #$AUTHOR:Gonzalo Contreras Aso  -->',\n",
       " '</map>',\n",
       " '']"
      ]
     },
     "execution_count": 26,
     "metadata": {},
     "output_type": "execute_result"
    }
   ],
   "source": [
    "#Eliminar los tags que ahora sustituiremos\n",
    "splitmap = imgmap.split('\\n')\n",
    "finalmap = [] \n",
    "for split in splitmap:\n",
    "    if split.find('<area'):\n",
    "        finalmap.append(split)\n",
    "    \n",
    "finalmap"
   ]
  },
  {
   "cell_type": "code",
   "execution_count": 27,
   "metadata": {},
   "outputs": [
    {
     "data": {
      "text/plain": [
       "['<img src=\"[SX6536_detalle] (imported)\" width=\"538\" height=\"141\" border=\"0\" usemap=\"#map\" />',\n",
       " '',\n",
       " '<map name=\"map\">',\n",
       " '<!-- #$-:Image map file created by GIMP Image Map plug-in -->',\n",
       " '<!-- #$-:GIMP Image Map plug-in by Maurits Rijk -->',\n",
       " '<!-- #$-:Please do not edit lines starting with \"#$\" -->',\n",
       " '<!-- #$VERSION:2.3 -->',\n",
       " '<!-- #$AUTHOR:Gonzalo Contreras Aso  -->',\n",
       " '<area shape=\"rect\" coords=\"108,61,141,76\" alt=\"1\"  nohref=\"nohref\" />',\n",
       " '<area shape=\"rect\" coords=\"108,84,141,99\" alt=\"2\"  nohref=\"nohref\" />',\n",
       " '<area shape=\"rect\" coords=\"143,61,176,76\" alt=\"3\"  nohref=\"nohref\" />',\n",
       " '<area shape=\"rect\" coords=\"143,84,176,99\" alt=\"4\"  nohref=\"nohref\" />',\n",
       " '<area shape=\"rect\" coords=\"178,61,211,76\" alt=\"5\"  nohref=\"nohref\" />',\n",
       " '<area shape=\"rect\" coords=\"178,84,211,99\" alt=\"6\"  nohref=\"nohref\" />',\n",
       " '<area shape=\"rect\" coords=\"219,61,252,76\" alt=\"7\"  nohref=\"nohref\" />',\n",
       " '<area shape=\"rect\" coords=\"219,84,252,99\" alt=\"8\"  nohref=\"nohref\" />',\n",
       " '<area shape=\"rect\" coords=\"254,61,287,76\" alt=\"9\"  nohref=\"nohref\" />',\n",
       " '<area shape=\"rect\" coords=\"254,84,287,99\" alt=\"10\"  nohref=\"nohref\" />',\n",
       " '<area shape=\"rect\" coords=\"289,61,322,76\" alt=\"11\"  nohref=\"nohref\" />',\n",
       " '<area shape=\"rect\" coords=\"289,84,322,99\" alt=\"12\"  nohref=\"nohref\" />',\n",
       " '<area shape=\"rect\" coords=\"330,61,363,76\" alt=\"13\"  nohref=\"nohref\" />',\n",
       " '<area shape=\"rect\" coords=\"330,84,363,99\" alt=\"14\"  nohref=\"nohref\" />',\n",
       " '<area shape=\"rect\" coords=\"365,61,398,76\" alt=\"15\"  nohref=\"nohref\" />',\n",
       " '<area shape=\"rect\" coords=\"365,84,398,99\" alt=\"16\"  nohref=\"nohref\" />',\n",
       " '<area shape=\"rect\" coords=\"400,61,433,76\" alt=\"17\"  nohref=\"nohref\" />',\n",
       " '<area shape=\"rect\" coords=\"400,84,433,99\" alt=\"18\"  nohref=\"nohref\" />',\n",
       " '</map>',\n",
       " '']"
      ]
     },
     "execution_count": 27,
     "metadata": {},
     "output_type": "execute_result"
    }
   ],
   "source": [
    "# Insertar los tags en la lista que irá al fichero\n",
    "for entry in all_pos.keys():\n",
    "    intlist = all_pos[entry].tolist()\n",
    "    strlist = [str(num) for num in intlist]\n",
    "    val = \",\".join(strlist)\n",
    "    tag = f'<area shape=\"rect\" coords=\"{val}\" alt=\"{entry}\"  nohref=\"nohref\" />'\n",
    "    finalmap.insert(-2,tag)\n",
    "finalmap"
   ]
  },
  {
   "cell_type": "code",
   "execution_count": 28,
   "metadata": {},
   "outputs": [],
   "source": [
    "outfile = 'imagenes_y_maps/SX6536_detalle.map'\n",
    "with open(outfile, 'w') as file:\n",
    "    file.write('\\n'.join(finalmap))"
   ]
  },
  {
   "cell_type": "code",
   "execution_count": null,
   "metadata": {},
   "outputs": [],
   "source": []
  }
 ],
 "metadata": {
  "kernelspec": {
   "display_name": "Python 3",
   "language": "python",
   "name": "python3"
  },
  "language_info": {
   "codemirror_mode": {
    "name": "ipython",
    "version": 3
   },
   "file_extension": ".py",
   "mimetype": "text/x-python",
   "name": "python",
   "nbconvert_exporter": "python",
   "pygments_lexer": "ipython3",
   "version": "3.9.1"
  }
 },
 "nbformat": 4,
 "nbformat_minor": 4
}
