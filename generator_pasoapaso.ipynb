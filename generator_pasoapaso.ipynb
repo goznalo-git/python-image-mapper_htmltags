{
 "cells": [
  {
   "cell_type": "code",
   "execution_count": 1,
   "metadata": {},
   "outputs": [],
   "source": [
    "import numpy as np"
   ]
  },
  {
   "cell_type": "code",
   "execution_count": 2,
   "metadata": {},
   "outputs": [],
   "source": [
    "def mostrar(path):\n",
    "    with open(path, 'r') as file:\n",
    "        imgmap = file.read()\n",
    "    print(imgmap)\n",
    "    return imgmap"
   ]
  },
  {
   "cell_type": "code",
   "execution_count": 3,
   "metadata": {},
   "outputs": [],
   "source": [
    "#Detalles switch: (2)\n",
    "gr_col = 3\n",
    "gr_row = 1\n",
    "col = 6\n",
    "row = 2"
   ]
  },
  {
   "cell_type": "code",
   "execution_count": 4,
   "metadata": {},
   "outputs": [
    {
     "name": "stdout",
     "output_type": "stream",
     "text": [
      "<img src=\"[StorageReview-Mellanox-SX6036-InfiniBand-Switch-Front] (imported)\" width=\"850\" height=\"129\" border=\"0\" usemap=\"#map\" />\n",
      "\n",
      "<map name=\"map\">\n",
      "<!-- #$-:Image map file created by GIMP Image Map plug-in -->\n",
      "<!-- #$-:GIMP Image Map plug-in by Maurits Rijk -->\n",
      "<!-- #$-:Please do not edit lines starting with \"#$\" -->\n",
      "<!-- #$VERSION:2.3 -->\n",
      "<!-- #$AUTHOR:Gonzalo Contreras Aso -->\n",
      "<area shape=\"rect\" coords=\"70,51,105,67\" alt=\"1\"  nohref=\"nohref\" />\n",
      "<area shape=\"rect\" coords=\"108,51,142,67\" alt=\"3\"  nohref=\"nohref\" />\n",
      "<area shape=\"rect\" coords=\"71,76,106,92\" alt=\"2\"  nohref=\"nohref\" />\n",
      "<area shape=\"rect\" coords=\"300,53,334,67\" alt=\"13\"  nohref=\"nohref\" />\n",
      "</map>\n",
      "\n"
     ]
    }
   ],
   "source": [
    "#Abrimos el .map inicial con el rectángulo inicial y los 3 saltos necesarios\n",
    "path_input = 'imagenes_y_maps/[StorageReview-Mellanox-SX6036-InfiniBand-Switch-Front] (imported).map'\n",
    "imgmap = mostrar(path_input)"
   ]
  },
  {
   "cell_type": "code",
   "execution_count": 5,
   "metadata": {},
   "outputs": [
    {
     "data": {
      "text/plain": [
       "{1: '70,51,105,67', 3: '108,51,142,67', 2: '71,76,106,92', 13: '300,53,334,67'}"
      ]
     },
     "execution_count": 5,
     "metadata": {},
     "output_type": "execute_result"
    }
   ],
   "source": [
    "#Conseguimos el diccionario con las cordenadas del rectángulo inicial y los saltos necesarios\n",
    "coords_dict = {}\n",
    "split = [split.split('\\\" alt=\\\"') for split in imgmap.split('coords=\\\"')[1:]]\n",
    "for coords in split:\n",
    "    alt = coords[1].split('\\\"  nohref')[0] #Careful: dos espacios entre \\\" y nohref\n",
    "    coords_dict[int(alt)] = coords[0]\n",
    "coords_dict"
   ]
  },
  {
   "cell_type": "code",
   "execution_count": 6,
   "metadata": {},
   "outputs": [
    {
     "data": {
      "text/plain": [
       "{3: array([38,  0, 37,  0]),\n",
       " 2: array([ 1, 25,  1, 25]),\n",
       " 13: array([230,   2, 229,   0])}"
      ]
     },
     "execution_count": 6,
     "metadata": {},
     "output_type": "execute_result"
    }
   ],
   "source": [
    "dist_dict = {}\n",
    "pos_base = [int(pos) for pos in coords_dict[1].split(\",\")]\n",
    "for entry in coords_dict.keys():\n",
    "    if entry == 1:\n",
    "        continue\n",
    "    pos = [int(pos) for pos in coords_dict[entry].split(\",\")]\n",
    "    dist_dict[entry] = np.subtract(pos,pos_base)\n",
    "dist_dict"
   ]
  },
  {
   "cell_type": "code",
   "execution_count": 7,
   "metadata": {},
   "outputs": [
    {
     "data": {
      "text/plain": [
       "{3: [38, 0, 38, 0], 2: [1, 25, 1, 25], 13: [230, 2, 230, 2]}"
      ]
     },
     "execution_count": 7,
     "metadata": {},
     "output_type": "execute_result"
    }
   ],
   "source": [
    "#Nos vamos a quedar con los dos primeros números de cada: los dos siguientes en un mundo perfecto debería ser iguales, y el bucle se asegurará de ello.\n",
    "dist_good = {entry: list(dist_dict[entry][:2]) + list(dist_dict[entry][:2]) for entry in dist_dict.keys()}\n",
    "dist_good"
   ]
  },
  {
   "cell_type": "code",
   "execution_count": 10,
   "metadata": {},
   "outputs": [
    {
     "data": {
      "text/plain": [
       "{1: array([ 70,  51, 105,  67]),\n",
       " 2: array([ 71,  76, 106,  92]),\n",
       " 3: array([108,  51, 143,  67]),\n",
       " 4: array([109,  76, 144,  92]),\n",
       " 5: array([146,  51, 181,  67]),\n",
       " 6: array([147,  76, 182,  92]),\n",
       " 7: array([184,  51, 219,  67]),\n",
       " 8: array([185,  76, 220,  92]),\n",
       " 9: array([222,  51, 257,  67]),\n",
       " 10: array([223,  76, 258,  92]),\n",
       " 11: array([260,  51, 295,  67]),\n",
       " 12: array([261,  76, 296,  92]),\n",
       " 13: array([300,  53, 335,  69]),\n",
       " 14: array([301,  78, 336,  94]),\n",
       " 15: array([338,  53, 373,  69]),\n",
       " 16: array([339,  78, 374,  94]),\n",
       " 17: array([376,  53, 411,  69]),\n",
       " 18: array([377,  78, 412,  94]),\n",
       " 19: array([414,  53, 449,  69]),\n",
       " 20: array([415,  78, 450,  94]),\n",
       " 21: array([452,  53, 487,  69]),\n",
       " 22: array([453,  78, 488,  94]),\n",
       " 23: array([490,  53, 525,  69]),\n",
       " 24: array([491,  78, 526,  94]),\n",
       " 25: array([530,  55, 565,  71]),\n",
       " 26: array([531,  80, 566,  96]),\n",
       " 27: array([568,  55, 603,  71]),\n",
       " 28: array([569,  80, 604,  96]),\n",
       " 29: array([606,  55, 641,  71]),\n",
       " 30: array([607,  80, 642,  96]),\n",
       " 31: array([644,  55, 679,  71]),\n",
       " 32: array([645,  80, 680,  96]),\n",
       " 33: array([682,  55, 717,  71]),\n",
       " 34: array([683,  80, 718,  96]),\n",
       " 35: array([720,  55, 755,  71]),\n",
       " 36: array([721,  80, 756,  96])}"
      ]
     },
     "execution_count": 10,
     "metadata": {},
     "output_type": "execute_result"
    }
   ],
   "source": [
    "alt = 1\n",
    "all_pos = {}\n",
    "all_pos[1] = np.array(pos_base)\n",
    "\n",
    "def calcular_posicion(alt,i,j,k,l):\n",
    "    #Calculo del siguiente rectángulo.\n",
    "    change = np.multiply(i,dist_good[2]) + np.multiply(j,dist_good[3]) + np.multiply(k,dist_good[col * row + 1])\n",
    "    if l: \n",
    "        change += np.multiply(l,dist_good[col * row * gr_col + 1]) \n",
    "        \n",
    "    pos = np.add(pos_base, change)\n",
    "    alt += 1\n",
    "    return alt, pos \n",
    "\n",
    "for l in range(0,gr_row):\n",
    "    for k in range(0,gr_col):\n",
    "        for j in range(0,col):\n",
    "            for i in range(0,row):\n",
    "                if i == 0 and j == 0 and k == 0 and l == 0:\n",
    "                    continue\n",
    "                alt, pos = calcular_posicion(alt,i,j,k,l)\n",
    "                all_pos[alt] = pos\n",
    "all_pos"
   ]
  },
  {
   "cell_type": "code",
   "execution_count": 26,
   "metadata": {},
   "outputs": [
    {
     "data": {
      "text/plain": [
       "['<img src=\"[SX6536_detalle] (imported)\" width=\"538\" height=\"141\" border=\"0\" usemap=\"#map\" />',\n",
       " '',\n",
       " '<map name=\"map\">',\n",
       " '<!-- #$-:Image map file created by GIMP Image Map plug-in -->',\n",
       " '<!-- #$-:GIMP Image Map plug-in by Maurits Rijk -->',\n",
       " '<!-- #$-:Please do not edit lines starting with \"#$\" -->',\n",
       " '<!-- #$VERSION:2.3 -->',\n",
       " '<!-- #$AUTHOR:Gonzalo Contreras Aso  -->',\n",
       " '</map>',\n",
       " '']"
      ]
     },
     "execution_count": 26,
     "metadata": {},
     "output_type": "execute_result"
    }
   ],
   "source": [
    "#Eliminar los tags que ahora sustituiremos\n",
    "splitmap = imgmap.split('\\n')\n",
    "finalmap = [] \n",
    "for split in splitmap:\n",
    "    if split.find('<area'):\n",
    "        finalmap.append(split)\n",
    "    \n",
    "finalmap"
   ]
  },
  {
   "cell_type": "code",
   "execution_count": 27,
   "metadata": {},
   "outputs": [
    {
     "data": {
      "text/plain": [
       "['<img src=\"[SX6536_detalle] (imported)\" width=\"538\" height=\"141\" border=\"0\" usemap=\"#map\" />',\n",
       " '',\n",
       " '<map name=\"map\">',\n",
       " '<!-- #$-:Image map file created by GIMP Image Map plug-in -->',\n",
       " '<!-- #$-:GIMP Image Map plug-in by Maurits Rijk -->',\n",
       " '<!-- #$-:Please do not edit lines starting with \"#$\" -->',\n",
       " '<!-- #$VERSION:2.3 -->',\n",
       " '<!-- #$AUTHOR:Gonzalo Contreras Aso  -->',\n",
       " '<area shape=\"rect\" coords=\"108,61,141,76\" alt=\"1\"  nohref=\"nohref\" />',\n",
       " '<area shape=\"rect\" coords=\"108,84,141,99\" alt=\"2\"  nohref=\"nohref\" />',\n",
       " '<area shape=\"rect\" coords=\"143,61,176,76\" alt=\"3\"  nohref=\"nohref\" />',\n",
       " '<area shape=\"rect\" coords=\"143,84,176,99\" alt=\"4\"  nohref=\"nohref\" />',\n",
       " '<area shape=\"rect\" coords=\"178,61,211,76\" alt=\"5\"  nohref=\"nohref\" />',\n",
       " '<area shape=\"rect\" coords=\"178,84,211,99\" alt=\"6\"  nohref=\"nohref\" />',\n",
       " '<area shape=\"rect\" coords=\"219,61,252,76\" alt=\"7\"  nohref=\"nohref\" />',\n",
       " '<area shape=\"rect\" coords=\"219,84,252,99\" alt=\"8\"  nohref=\"nohref\" />',\n",
       " '<area shape=\"rect\" coords=\"254,61,287,76\" alt=\"9\"  nohref=\"nohref\" />',\n",
       " '<area shape=\"rect\" coords=\"254,84,287,99\" alt=\"10\"  nohref=\"nohref\" />',\n",
       " '<area shape=\"rect\" coords=\"289,61,322,76\" alt=\"11\"  nohref=\"nohref\" />',\n",
       " '<area shape=\"rect\" coords=\"289,84,322,99\" alt=\"12\"  nohref=\"nohref\" />',\n",
       " '<area shape=\"rect\" coords=\"330,61,363,76\" alt=\"13\"  nohref=\"nohref\" />',\n",
       " '<area shape=\"rect\" coords=\"330,84,363,99\" alt=\"14\"  nohref=\"nohref\" />',\n",
       " '<area shape=\"rect\" coords=\"365,61,398,76\" alt=\"15\"  nohref=\"nohref\" />',\n",
       " '<area shape=\"rect\" coords=\"365,84,398,99\" alt=\"16\"  nohref=\"nohref\" />',\n",
       " '<area shape=\"rect\" coords=\"400,61,433,76\" alt=\"17\"  nohref=\"nohref\" />',\n",
       " '<area shape=\"rect\" coords=\"400,84,433,99\" alt=\"18\"  nohref=\"nohref\" />',\n",
       " '</map>',\n",
       " '']"
      ]
     },
     "execution_count": 27,
     "metadata": {},
     "output_type": "execute_result"
    }
   ],
   "source": [
    "# Insertar los tags en la lista que irá al fichero\n",
    "for entry in all_pos.keys():\n",
    "    intlist = all_pos[entry].tolist()\n",
    "    strlist = [str(num) for num in intlist]\n",
    "    val = \",\".join(strlist)\n",
    "    tag = f'<area shape=\"rect\" coords=\"{val}\" alt=\"{entry}\"  nohref=\"nohref\" />'\n",
    "    finalmap.insert(-2,tag)\n",
    "finalmap"
   ]
  },
  {
   "cell_type": "code",
   "execution_count": 28,
   "metadata": {},
   "outputs": [],
   "source": [
    "outfile = 'imagenes_y_maps/SX6536_detalle.map'\n",
    "with open(outfile, 'w') as file:\n",
    "    file.write('\\n'.join(finalmap))"
   ]
  },
  {
   "cell_type": "code",
   "execution_count": null,
   "metadata": {},
   "outputs": [],
   "source": []
  }
 ],
 "metadata": {
  "kernelspec": {
   "display_name": "Python 3",
   "language": "python",
   "name": "python3"
  },
  "language_info": {
   "codemirror_mode": {
    "name": "ipython",
    "version": 3
   },
   "file_extension": ".py",
   "mimetype": "text/x-python",
   "name": "python",
   "nbconvert_exporter": "python",
   "pygments_lexer": "ipython3",
   "version": "3.9.1"
  }
 },
 "nbformat": 4,
 "nbformat_minor": 4
}
